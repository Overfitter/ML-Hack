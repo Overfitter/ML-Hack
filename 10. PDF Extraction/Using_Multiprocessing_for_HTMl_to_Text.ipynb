{
 "cells": [
  {
   "cell_type": "markdown",
   "metadata": {},
   "source": [
    "## Objective:  Converting PDF's To DataFrame and Extracting Table Of Content"
   ]
  },
  {
   "cell_type": "markdown",
   "metadata": {},
   "source": [
    "### Importing Modules"
   ]
  },
  {
   "cell_type": "code",
   "execution_count": 1,
   "metadata": {},
   "outputs": [],
   "source": [
    "import sys\n",
    "sys.path.insert(1,r'C:\\Users\\ya24494\\Desktop\\Amendment_Extraction\\Extraction\\1. Protocol_Extraction\\Modules')\n",
    "import warnings\n",
    "warnings.filterwarnings(\"ignore\")\n",
    "import os, fnmatch\n",
    "import shutil\n",
    "import gc\n",
    "import timeit\n",
    "import time\n",
    "import codecs\n",
    "import copy\n",
    "import camelot\n",
    "import pandas as pd\n",
    "import numpy as np\n",
    "import re\n",
    "import pickle\n",
    "from fuzzywuzzy import fuzz\n",
    "#helper modules can be founfd in modules folder\n",
    "from pandas import ExcelWriter\n",
    "from soa import SOA\n",
    "from utilities_v1 import PDF_converter, TOC_extract\n",
    "from utilities_v1 import HTML_to_DF_converter\n",
    "from utilities_v1 import ContentExtractor\n",
    "from utilities_v1 import extractData\n",
    "import utilities_v1 as util\n",
    "\n",
    "\n",
    "import pdf_to_html as pth\n",
    "\n",
    "import multiprocessing as mp"
   ]
  },
  {
   "cell_type": "markdown",
   "metadata": {},
   "source": [
    "### Setting Path"
   ]
  },
  {
   "cell_type": "code",
   "execution_count": 2,
   "metadata": {},
   "outputs": [],
   "source": [
    "# Path to the directory with folders for data,html,prot_df and toc\n",
    "CURR_DIR = os.path.join(r'C:\\Users\\ya24494\\Desktop\\Amendment_Extraction\\Extraction\\1. Protocol_Extraction')\n",
    "# Path to the file containing the protocols\n",
    "RAW_DATA_PATH = os.path.join(CURR_DIR, 'data')\n",
    "#Path to the file where the documents converted into HTML will be stored\n",
    "HTML_PATH=os.path.join(CURR_DIR, 'html')\n",
    "#Path to the file where pdf documents connverted to text will be stored\n",
    "TEXT_PATH=os.path.join(CURR_DIR, 'text')\n",
    "#path to the folder\n",
    "prot_df_PATH= os.path.join(CURR_DIR, 'prot_df')\n",
    "toc_df_PATH=os.path.join(CURR_DIR, 'toc_df')\n",
    "workbook_dir=r'C:\\Users\\ya24494\\Desktop\\Amendment_Extraction\\Extraction\\1. Protocol_Extraction\\Workbooks'"
   ]
  },
  {
   "cell_type": "markdown",
   "metadata": {},
   "source": [
    "### Multiprocessing the extraction functions"
   ]
  },
  {
   "cell_type": "markdown",
   "metadata": {},
   "source": [
    "#### Converting word dcouments to pdf's"
   ]
  },
  {
   "cell_type": "code",
   "execution_count": 8,
   "metadata": {},
   "outputs": [],
   "source": [
    "import docx2pdf"
   ]
  },
  {
   "cell_type": "code",
   "execution_count": 9,
   "metadata": {},
   "outputs": [
    {
     "name": "stdout",
     "output_type": "stream",
     "text": [
      "ca180226-revprot04.pdf\n"
     ]
    }
   ],
   "source": [
    "for i in pdf_list:\n",
    "    print(i)\n",
    "    temp=i.split('.')\n",
    "    if temp[-1]=='docx':\n",
    "        print(i)\n",
    "        temp_path=os.path.join(RAW_DATA_PATH,i)\n",
    "      \n",
    "        docx2pdf.convert(temp_path)"
   ]
  },
  {
   "cell_type": "markdown",
   "metadata": {},
   "source": [
    "#### PDF TO HTML"
   ]
  },
  {
   "cell_type": "code",
   "execution_count": 10,
   "metadata": {},
   "outputs": [],
   "source": [
    "pdf_list=os.listdir(RAW_DATA_PATH)"
   ]
  },
  {
   "cell_type": "code",
   "execution_count": 12,
   "metadata": {},
   "outputs": [
    {
     "name": "stdout",
     "output_type": "stream",
     "text": [
      "ca180226-revprot04.pdf\n"
     ]
    }
   ],
   "source": [
    "new_pdf_list=[]\n",
    "for i in pdf_list:\n",
    "    temp=i.split('.')\n",
    "    if temp[-1]=='pdf':\n",
    "        print(i)\n",
    "        new_pdf_list.append(i)"
   ]
  },
  {
   "cell_type": "code",
   "execution_count": 15,
   "metadata": {},
   "outputs": [
    {
     "name": "stdout",
     "output_type": "stream",
     "text": [
      "Wall time: 6.72 s\n"
     ]
    }
   ],
   "source": [
    "%%time\n",
    "pool = mp.Pool(8)\n",
    "\n",
    "results = pool.starmap(pth.pdf_to_html_function, [(raw_prot, RAW_DATA_PATH,HTML_PATH) for raw_prot in new_pdf_list])\n",
    "\n",
    "pool.close()\n"
   ]
  },
  {
   "cell_type": "markdown",
   "metadata": {},
   "source": [
    "#### HTML TO TEXT"
   ]
  },
  {
   "cell_type": "code",
   "execution_count": 18,
   "metadata": {},
   "outputs": [
    {
     "name": "stdout",
     "output_type": "stream",
     "text": [
      "Wall time: 2min 3s\n"
     ]
    }
   ],
   "source": [
    "%%time\n",
    "pool = mp.Pool(8)\n",
    "\n",
    "results = pool.starmap(pth.html_to_text, [(raw_prot,HTML_PATH,TEXT_PATH) for raw_prot in new_pdf_list])\n",
    "\n",
    "pool.close()\n"
   ]
  },
  {
   "cell_type": "markdown",
   "metadata": {},
   "source": [
    "#### TEXT TO PROTOCOL DATFRAME"
   ]
  },
  {
   "cell_type": "code",
   "execution_count": 20,
   "metadata": {},
   "outputs": [
    {
     "name": "stdout",
     "output_type": "stream",
     "text": [
      "Wall time: 4.98 s\n"
     ]
    }
   ],
   "source": [
    "%%time\n",
    "pool = mp.Pool(8)\n",
    "\n",
    "results = pool.starmap(pth.text_to_dataframe, [(raw_prot,TEXT_PATH,prot_df_PATH) for raw_prot in new_pdf_list])\n",
    "\n",
    "pool.close()\n"
   ]
  },
  {
   "cell_type": "markdown",
   "metadata": {},
   "source": [
    "#### PDF TO TOC"
   ]
  },
  {
   "cell_type": "code",
   "execution_count": 21,
   "metadata": {},
   "outputs": [
    {
     "name": "stdout",
     "output_type": "stream",
     "text": [
      "Wall time: 3.65 s\n"
     ]
    }
   ],
   "source": [
    "%%time\n",
    "pool = mp.Pool(8)\n",
    "\n",
    "results = pool.starmap(pth.pdf_to_toc, [(raw_prot,RAW_DATA_PATH,toc_df_PATH) for raw_prot in new_pdf_list])\n",
    "\n",
    "pool.close()\n"
   ]
  }
 ],
 "metadata": {
  "hide_input": false,
  "kernelspec": {
   "display_name": "Python 3",
   "language": "python",
   "name": "python3"
  },
  "language_info": {
   "codemirror_mode": {
    "name": "ipython",
    "version": 3
   },
   "file_extension": ".py",
   "mimetype": "text/x-python",
   "name": "python",
   "nbconvert_exporter": "python",
   "pygments_lexer": "ipython3",
   "version": "3.6.5"
  },
  "toc": {
   "base_numbering": 1,
   "nav_menu": {},
   "number_sections": true,
   "sideBar": true,
   "skip_h1_title": false,
   "title_cell": "Table of Contents",
   "title_sidebar": "Contents",
   "toc_cell": false,
   "toc_position": {},
   "toc_section_display": true,
   "toc_window_display": true
  }
 },
 "nbformat": 4,
 "nbformat_minor": 4
}
