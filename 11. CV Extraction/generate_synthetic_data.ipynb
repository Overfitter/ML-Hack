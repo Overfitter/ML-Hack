{
 "cells": [
  {
   "cell_type": "code",
   "execution_count": 261,
   "metadata": {},
   "outputs": [],
   "source": [
    "import pandas as pd\n",
    "import numpy as np\n",
    "import random\n",
    "from random import gauss\n",
    "import matplotlib.pyplot as plt\n",
    "import seaborn as sns\n",
    "\n",
    "%matplotlib inline"
   ]
  },
  {
   "cell_type": "code",
   "execution_count": 262,
   "metadata": {},
   "outputs": [],
   "source": [
    "def CountFrequency(my_list): \n",
    "  \n",
    "    # Creating an empty dictionary  \n",
    "    freq = {} \n",
    "    for item in my_list: \n",
    "        if (item in freq): \n",
    "            freq[item] += 1\n",
    "        else: \n",
    "            freq[item] = 1\n",
    "  \n",
    "    for key, value in freq.items(): \n",
    "        print (\"% d : % d\"%(key, value))"
   ]
  },
  {
   "cell_type": "code",
   "execution_count": 263,
   "metadata": {},
   "outputs": [
    {
     "name": "stdout",
     "output_type": "stream",
     "text": [
      " 4 :  8\n",
      " 5 :  13\n",
      " 8 :  18\n",
      " 3 :  5\n",
      " 7 :  11\n",
      " 1 :  5\n",
      " 6 :  17\n",
      " 11 :  2\n",
      " 9 :  8\n",
      " 10 :  11\n",
      " 12 :  1\n",
      " 2 :  1\n"
     ]
    }
   ],
   "source": [
    "unique_firms=[]\n",
    "N=100\n",
    "for i in range(N):\n",
    "     unique_firms.append(np.random.choice(np.arange(1, 13), p=[0.02,0.03,0.06,0.08,0.12,0.15,0.15,0.14,0.1,0.08,0.05,0.02]))\n",
    "        \n",
    "CountFrequency(unique_firms)"
   ]
  },
  {
   "cell_type": "code",
   "execution_count": 264,
   "metadata": {},
   "outputs": [
    {
     "data": {
      "text/plain": [
       "100"
      ]
     },
     "execution_count": 264,
     "metadata": {},
     "output_type": "execute_result"
    }
   ],
   "source": [
    "len(unique_firms)"
   ]
  },
  {
   "cell_type": "code",
   "execution_count": 316,
   "metadata": {},
   "outputs": [],
   "source": [
    "total_exp=[]\n",
    "for i in range(N):\n",
    "    unique_firm = unique_firms[i]\n",
    "    avg_yrs = 10 + unique_firm*1\n",
    "    a = gauss(avg_yrs,2)\n",
    "    if a <10:\n",
    "        a=10\n",
    "    elif a>30:\n",
    "        a=30\n",
    "    total_exp.append(round(a,1))    \n",
    "    "
   ]
  },
  {
   "cell_type": "code",
   "execution_count": 317,
   "metadata": {},
   "outputs": [
    {
     "data": {
      "text/plain": [
       "<matplotlib.axes._subplots.AxesSubplot at 0x1d02f6a3148>"
      ]
     },
     "execution_count": 317,
     "metadata": {},
     "output_type": "execute_result"
    },
    {
     "data": {
      "image/png": "[encoded data removed]",
      "text/plain": [
       "<Figure size 432x288 with 1 Axes>"
      ]
     },
     "metadata": {
      "needs_background": "light"
     },
     "output_type": "display_data"
    }
   ],
   "source": [
    "sns.scatterplot(x=pd.Series(unique_firms),y=pd.Series(total_exp))"
   ]
  },
  {
   "cell_type": "code",
   "execution_count": 318,
   "metadata": {},
   "outputs": [
    {
     "data": {
      "text/plain": [
       "0.14"
      ]
     },
     "execution_count": 318,
     "metadata": {},
     "output_type": "execute_result"
    }
   ],
   "source": [
    "sum(1 for i in total_exp if i>20) / 100"
   ]
  },
  {
   "cell_type": "code",
   "execution_count": 319,
   "metadata": {},
   "outputs": [],
   "source": [
    "from random import *\n",
    "def f(n,s):\n",
    "    r=min(s,1)\n",
    "    x=uniform(max(0,r-(r-s/n)*2),r)\n",
    "    return n<2and[s]or sample([x]+f(n-1,s-x),n)"
   ]
  },
  {
   "cell_type": "code",
   "execution_count": 320,
   "metadata": {},
   "outputs": [],
   "source": [
    "experience = []\n",
    "for i in range(N):\n",
    "    total_experience = total_exp[i]\n",
    "    unique_firm = unique_firms[i]\n",
    "    my_list = f(unique_firm,total_experience)\n",
    "    experience.append([float('%.1f' % elem) for elem in my_list ])\n",
    "#     print(total_experience)\n",
    "#     print(unique_firm)\n",
    "#     print(experience)\n",
    "#     break"
   ]
  },
  {
   "cell_type": "code",
   "execution_count": 321,
   "metadata": {},
   "outputs": [
    {
     "name": "stdout",
     "output_type": "stream",
     "text": [
      "[2.9, 3.7, 1.0, 6.4]\n"
     ]
    },
    {
     "data": {
      "text/html": [
       "<div>\n",
       "<style scoped>\n",
       "    .dataframe tbody tr th:only-of-type {\n",
       "        vertical-align: middle;\n",
       "    }\n",
       "\n",
       "    .dataframe tbody tr th {\n",
       "        vertical-align: top;\n",
       "    }\n",
       "\n",
       "    .dataframe thead th {\n",
       "        text-align: right;\n",
       "    }\n",
       "</style>\n",
       "<table border=\"1\" class=\"dataframe\">\n",
       "  <thead>\n",
       "    <tr style=\"text-align: right;\">\n",
       "      <th></th>\n",
       "      <th>Exp -1</th>\n",
       "      <th>Exp -2</th>\n",
       "      <th>Exp -3</th>\n",
       "      <th>Exp -4</th>\n",
       "      <th>Exp -5</th>\n",
       "      <th>Exp -6</th>\n",
       "      <th>Exp -7</th>\n",
       "      <th>Exp -8</th>\n",
       "      <th>Exp -9</th>\n",
       "      <th>Exp -10</th>\n",
       "      <th>Exp -11</th>\n",
       "      <th>Exp -12</th>\n",
       "    </tr>\n",
       "  </thead>\n",
       "  <tbody>\n",
       "    <tr>\n",
       "      <td>0</td>\n",
       "      <td>2.9</td>\n",
       "      <td>3.7</td>\n",
       "      <td>1</td>\n",
       "      <td>6.4</td>\n",
       "      <td></td>\n",
       "      <td></td>\n",
       "      <td></td>\n",
       "      <td></td>\n",
       "      <td></td>\n",
       "      <td></td>\n",
       "      <td></td>\n",
       "      <td></td>\n",
       "    </tr>\n",
       "    <tr>\n",
       "      <td>1</td>\n",
       "      <td>2.2</td>\n",
       "      <td>4.4</td>\n",
       "      <td>4.6</td>\n",
       "      <td>1</td>\n",
       "      <td>3</td>\n",
       "      <td></td>\n",
       "      <td></td>\n",
       "      <td></td>\n",
       "      <td></td>\n",
       "      <td></td>\n",
       "      <td></td>\n",
       "      <td></td>\n",
       "    </tr>\n",
       "    <tr>\n",
       "      <td>2</td>\n",
       "      <td>4.5</td>\n",
       "      <td>1.8</td>\n",
       "      <td>2.1</td>\n",
       "      <td>1.4</td>\n",
       "      <td>2.9</td>\n",
       "      <td>1.2</td>\n",
       "      <td>3.3</td>\n",
       "      <td>2.5</td>\n",
       "      <td></td>\n",
       "      <td></td>\n",
       "      <td></td>\n",
       "      <td></td>\n",
       "    </tr>\n",
       "    <tr>\n",
       "      <td>3</td>\n",
       "      <td>1.0</td>\n",
       "      <td>5</td>\n",
       "      <td>1.6</td>\n",
       "      <td>5.3</td>\n",
       "      <td></td>\n",
       "      <td></td>\n",
       "      <td></td>\n",
       "      <td></td>\n",
       "      <td></td>\n",
       "      <td></td>\n",
       "      <td></td>\n",
       "      <td></td>\n",
       "    </tr>\n",
       "    <tr>\n",
       "      <td>4</td>\n",
       "      <td>2.6</td>\n",
       "      <td>2.1</td>\n",
       "      <td>3.4</td>\n",
       "      <td>1.6</td>\n",
       "      <td>4</td>\n",
       "      <td></td>\n",
       "      <td></td>\n",
       "      <td></td>\n",
       "      <td></td>\n",
       "      <td></td>\n",
       "      <td></td>\n",
       "      <td></td>\n",
       "    </tr>\n",
       "  </tbody>\n",
       "</table>\n",
       "</div>"
      ],
      "text/plain": [
       "   Exp -1 Exp -2 Exp -3 Exp -4 Exp -5 Exp -6 Exp -7 Exp -8 Exp -9 Exp -10  \\\n",
       "0     2.9    3.7      1    6.4                                              \n",
       "1     2.2    4.4    4.6      1      3                                       \n",
       "2     4.5    1.8    2.1    1.4    2.9    1.2    3.3    2.5                  \n",
       "3     1.0      5    1.6    5.3                                              \n",
       "4     2.6    2.1    3.4    1.6      4                                       \n",
       "\n",
       "  Exp -11 Exp -12  \n",
       "0                  \n",
       "1                  \n",
       "2                  \n",
       "3                  \n",
       "4                  "
      ]
     },
     "execution_count": 321,
     "metadata": {},
     "output_type": "execute_result"
    }
   ],
   "source": [
    "data=[]\n",
    "for i in range(N):\n",
    "#     a = [unique_firms[i],total_exp[i]]\n",
    "    a=experience[i]\n",
    "#     print(a)\n",
    "    data.append(a)\n",
    "print(data[0])\n",
    "# df = pd.DataFrame(data, columns = ['Total Companies candidate worked with', 'Cumulative years of Experience', 'Exp'])\n",
    "f = lambda x: 'Exp {}'.format(-x-1)\n",
    "df = pd.DataFrame(data,dtype=object).fillna('').rename(columns=f)\n",
    "df.head()"
   ]
  },
  {
   "cell_type": "code",
   "execution_count": 322,
   "metadata": {},
   "outputs": [],
   "source": [
    "df['Total Companies candidate worked with'] = unique_firms\n",
    "df['Cumulative years of Experience'] = total_exp\n",
    "df['Exp'] = experience\n",
    "df['RevExp'] = [list(reversed(exp)) for exp in experience]"
   ]
  },
  {
   "cell_type": "code",
   "execution_count": 323,
   "metadata": {},
   "outputs": [
    {
     "data": {
      "text/html": [
       "<div>\n",
       "<style scoped>\n",
       "    .dataframe tbody tr th:only-of-type {\n",
       "        vertical-align: middle;\n",
       "    }\n",
       "\n",
       "    .dataframe tbody tr th {\n",
       "        vertical-align: top;\n",
       "    }\n",
       "\n",
       "    .dataframe thead th {\n",
       "        text-align: right;\n",
       "    }\n",
       "</style>\n",
       "<table border=\"1\" class=\"dataframe\">\n",
       "  <thead>\n",
       "    <tr style=\"text-align: right;\">\n",
       "      <th></th>\n",
       "      <th>Exp -1</th>\n",
       "      <th>Exp -2</th>\n",
       "      <th>Exp -3</th>\n",
       "      <th>Exp -4</th>\n",
       "      <th>Exp -5</th>\n",
       "      <th>Exp -6</th>\n",
       "      <th>Exp -7</th>\n",
       "      <th>Exp -8</th>\n",
       "      <th>Exp -9</th>\n",
       "      <th>Exp -10</th>\n",
       "      <th>Exp -11</th>\n",
       "      <th>Exp -12</th>\n",
       "      <th>Total Companies candidate worked with</th>\n",
       "      <th>Cumulative years of Experience</th>\n",
       "      <th>Exp</th>\n",
       "      <th>RevExp</th>\n",
       "    </tr>\n",
       "  </thead>\n",
       "  <tbody>\n",
       "    <tr>\n",
       "      <td>0</td>\n",
       "      <td>2.9</td>\n",
       "      <td>3.7</td>\n",
       "      <td>1</td>\n",
       "      <td>6.4</td>\n",
       "      <td></td>\n",
       "      <td></td>\n",
       "      <td></td>\n",
       "      <td></td>\n",
       "      <td></td>\n",
       "      <td></td>\n",
       "      <td></td>\n",
       "      <td></td>\n",
       "      <td>4</td>\n",
       "      <td>14.0</td>\n",
       "      <td>[2.9, 3.7, 1.0, 6.4]</td>\n",
       "      <td>[6.4, 1.0, 3.7, 2.9]</td>\n",
       "    </tr>\n",
       "    <tr>\n",
       "      <td>1</td>\n",
       "      <td>2.2</td>\n",
       "      <td>4.4</td>\n",
       "      <td>4.6</td>\n",
       "      <td>1</td>\n",
       "      <td>3</td>\n",
       "      <td></td>\n",
       "      <td></td>\n",
       "      <td></td>\n",
       "      <td></td>\n",
       "      <td></td>\n",
       "      <td></td>\n",
       "      <td></td>\n",
       "      <td>5</td>\n",
       "      <td>15.3</td>\n",
       "      <td>[2.2, 4.4, 4.6, 1.0, 3.0]</td>\n",
       "      <td>[3.0, 1.0, 4.6, 4.4, 2.2]</td>\n",
       "    </tr>\n",
       "    <tr>\n",
       "      <td>2</td>\n",
       "      <td>4.5</td>\n",
       "      <td>1.8</td>\n",
       "      <td>2.1</td>\n",
       "      <td>1.4</td>\n",
       "      <td>2.9</td>\n",
       "      <td>1.2</td>\n",
       "      <td>3.3</td>\n",
       "      <td>2.5</td>\n",
       "      <td></td>\n",
       "      <td></td>\n",
       "      <td></td>\n",
       "      <td></td>\n",
       "      <td>8</td>\n",
       "      <td>19.6</td>\n",
       "      <td>[4.5, 1.8, 2.1, 1.4, 2.9, 1.2, 3.3, 2.5]</td>\n",
       "      <td>[2.5, 3.3, 1.2, 2.9, 1.4, 2.1, 1.8, 4.5]</td>\n",
       "    </tr>\n",
       "    <tr>\n",
       "      <td>3</td>\n",
       "      <td>1.0</td>\n",
       "      <td>5</td>\n",
       "      <td>1.6</td>\n",
       "      <td>5.3</td>\n",
       "      <td></td>\n",
       "      <td></td>\n",
       "      <td></td>\n",
       "      <td></td>\n",
       "      <td></td>\n",
       "      <td></td>\n",
       "      <td></td>\n",
       "      <td></td>\n",
       "      <td>4</td>\n",
       "      <td>12.9</td>\n",
       "      <td>[1.0, 5.0, 1.6, 5.3]</td>\n",
       "      <td>[5.3, 1.6, 5.0, 1.0]</td>\n",
       "    </tr>\n",
       "    <tr>\n",
       "      <td>4</td>\n",
       "      <td>2.6</td>\n",
       "      <td>2.1</td>\n",
       "      <td>3.4</td>\n",
       "      <td>1.6</td>\n",
       "      <td>4</td>\n",
       "      <td></td>\n",
       "      <td></td>\n",
       "      <td></td>\n",
       "      <td></td>\n",
       "      <td></td>\n",
       "      <td></td>\n",
       "      <td></td>\n",
       "      <td>5</td>\n",
       "      <td>13.6</td>\n",
       "      <td>[2.6, 2.1, 3.4, 1.6, 4.0]</td>\n",
       "      <td>[4.0, 1.6, 3.4, 2.1, 2.6]</td>\n",
       "    </tr>\n",
       "  </tbody>\n",
       "</table>\n",
       "</div>"
      ],
      "text/plain": [
       "   Exp -1 Exp -2 Exp -3 Exp -4 Exp -5 Exp -6 Exp -7 Exp -8 Exp -9 Exp -10  \\\n",
       "0     2.9    3.7      1    6.4                                              \n",
       "1     2.2    4.4    4.6      1      3                                       \n",
       "2     4.5    1.8    2.1    1.4    2.9    1.2    3.3    2.5                  \n",
       "3     1.0      5    1.6    5.3                                              \n",
       "4     2.6    2.1    3.4    1.6      4                                       \n",
       "\n",
       "  Exp -11 Exp -12  Total Companies candidate worked with  \\\n",
       "0                                                      4   \n",
       "1                                                      5   \n",
       "2                                                      8   \n",
       "3                                                      4   \n",
       "4                                                      5   \n",
       "\n",
       "   Cumulative years of Experience                                       Exp  \\\n",
       "0                            14.0                      [2.9, 3.7, 1.0, 6.4]   \n",
       "1                            15.3                 [2.2, 4.4, 4.6, 1.0, 3.0]   \n",
       "2                            19.6  [4.5, 1.8, 2.1, 1.4, 2.9, 1.2, 3.3, 2.5]   \n",
       "3                            12.9                      [1.0, 5.0, 1.6, 5.3]   \n",
       "4                            13.6                 [2.6, 2.1, 3.4, 1.6, 4.0]   \n",
       "\n",
       "                                     RevExp  \n",
       "0                      [6.4, 1.0, 3.7, 2.9]  \n",
       "1                 [3.0, 1.0, 4.6, 4.4, 2.2]  \n",
       "2  [2.5, 3.3, 1.2, 2.9, 1.4, 2.1, 1.8, 4.5]  \n",
       "3                      [5.3, 1.6, 5.0, 1.0]  \n",
       "4                 [4.0, 1.6, 3.4, 2.1, 2.6]  "
      ]
     },
     "execution_count": 323,
     "metadata": {},
     "output_type": "execute_result"
    }
   ],
   "source": [
    "df.head()"
   ]
  },
  {
   "cell_type": "code",
   "execution_count": 324,
   "metadata": {},
   "outputs": [
    {
     "name": "stderr",
     "output_type": "stream",
     "text": [
      "C:\\Users\\abhishekm\\AppData\\Local\\Continuum\\anaconda3\\lib\\site-packages\\ipykernel_launcher.py:3: FutureWarning: set_value is deprecated and will be removed in a future release. Please use .at[] or .iat[] accessors instead\n",
      "  This is separate from the ipykernel package so we can avoid doing imports until\n"
     ]
    }
   ],
   "source": [
    "df['Repeat'] = 0\n",
    "for i in sample(range(0, 100), 25):\n",
    "    df.set_value(i, 'Repeat',1)\n",
    "    "
   ]
  },
  {
   "cell_type": "code",
   "execution_count": 325,
   "metadata": {},
   "outputs": [
    {
     "data": {
      "text/plain": [
       "0    75\n",
       "1    25\n",
       "Name: Repeat, dtype: int64"
      ]
     },
     "execution_count": 325,
     "metadata": {},
     "output_type": "execute_result"
    }
   ],
   "source": [
    "df['Repeat'].value_counts()"
   ]
  },
  {
   "cell_type": "code",
   "execution_count": 326,
   "metadata": {},
   "outputs": [],
   "source": [
    "df.to_csv('synthetic_data2.csv',index=False)"
   ]
  },
  {
   "cell_type": "code",
   "execution_count": 337,
   "metadata": {},
   "outputs": [
    {
     "name": "stdout",
     "output_type": "stream",
     "text": [
      "23\n",
      "45\n",
      "88\n",
      "94\n",
      "100\n",
      "110\n",
      "112\n",
      "115\n",
      "151\n",
      "164\n",
      "170\n",
      "277\n",
      "358\n",
      "382\n",
      "385\n",
      "442\n",
      "480\n",
      "516\n",
      "625\n",
      "637\n"
     ]
    }
   ],
   "source": [
    "for i in sorted(sample(range(1,658),20)):\n",
    "    print(i)"
   ]
  },
  {
   "cell_type": "code",
   "execution_count": 336,
   "metadata": {},
   "outputs": [
    {
     "data": {
      "text/plain": [
       "19.74"
      ]
     },
     "execution_count": 336,
     "metadata": {},
     "output_type": "execute_result"
    }
   ],
   "source": [
    "658*0.03\n"
   ]
  },
  {
   "cell_type": "code",
   "execution_count": null,
   "metadata": {},
   "outputs": [],
   "source": []
  }
 ],
 "metadata": {
  "kernelspec": {
   "display_name": "Python 3",
   "language": "python",
   "name": "python3"
  },
  "language_info": {
   "codemirror_mode": {
    "name": "ipython",
    "version": 3
   },
   "file_extension": ".py",
   "mimetype": "text/x-python",
   "name": "python",
   "nbconvert_exporter": "python",
   "pygments_lexer": "ipython3",
   "version": "3.7.4"
  }
 },
 "nbformat": 4,
 "nbformat_minor": 2
}
