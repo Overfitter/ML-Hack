{
 "cells": [
  {
   "cell_type": "markdown",
   "metadata": {},
   "source": [
    "### Loading Required Modules"
   ]
  },
  {
   "cell_type": "code",
   "execution_count": 3,
   "metadata": {
    "ExecuteTime": {
     "end_time": "2021-03-25T12:42:47.328101Z",
     "start_time": "2021-03-25T12:42:47.319094Z"
    }
   },
   "outputs": [
    {
     "name": "stderr",
     "output_type": "stream",
     "text": [
      "C:\\Users\\admin\\Anaconda3\\lib\\site-packages\\ipykernel_launcher.py:58: FutureWarning: Passing a negative integer is deprecated in version 1.0 and will not be supported in future version. Instead, use None to not limit the column width.\n"
     ]
    }
   ],
   "source": [
    "import pandas as pd\n",
    "import numpy as np\n",
    "import os\n",
    "import re\n",
    "\n",
    "# =============================================================================\n",
    "# Web Scraping Utilities\n",
    "# =============================================================================\n",
    "\n",
    "import requests\n",
    "from bs4 import BeautifulSoup\n",
    "\n",
    "# =============================================================================\n",
    "# Scikit-Learn Utitlies\n",
    "# =============================================================================\n",
    "from sklearn.model_selection import train_test_split\n",
    "from sklearn.feature_extraction.text import TfidfVectorizer, CountVectorizer\n",
    "from sklearn.metrics.pairwise import linear_kernel\n",
    "from sklearn.metrics import accuracy_score, classification_report, roc_auc_score, roc_curve, auc\n",
    "from sklearn.linear_model import LogisticRegression\n",
    "from sklearn.tree import DecisionTreeClassifier\n",
    "from sklearn.ensemble import RandomForestClassifier, GradientBoostingClassifier\n",
    "\n",
    "\n",
    "# =============================================================================\n",
    "# Exploratory Data Analysis\n",
    "# =============================================================================\n",
    "\n",
    "import sweetviz as sv\n",
    "\n",
    "\n",
    "# =============================================================================\n",
    "# ML Models Utilities\n",
    "# =============================================================================\n",
    "import xgboost as xgb\n",
    "import lightgbm as lgb\n",
    "import pickle\n",
    "\n",
    "\n",
    "\n",
    "\n",
    "# =============================================================================\n",
    "# Tqdm utlities\n",
    "# =============================================================================\n",
    "from tqdm import tqdm_notebook, tnrange\n",
    "from tqdm.auto import tqdm\n",
    "tqdm.pandas(desc='Progress')\n",
    "\n",
    "\n",
    "# =============================================================================\n",
    "# Other Utilities\n",
    "# =============================================================================\n",
    "\n",
    "pd.options.mode.chained_assignment = None\n",
    "pd.options.display.max_columns = 999\n",
    "pd.options.display.max_rows = 999\n",
    "\n",
    "pd.set_option('display.max_colwidth', -1)"
   ]
  },
  {
   "cell_type": "markdown",
   "metadata": {},
   "source": [
    "### Load Datasets"
   ]
  },
  {
   "cell_type": "code",
   "execution_count": 30,
   "metadata": {
    "ExecuteTime": {
     "end_time": "2021-03-07T05:58:39.116402Z",
     "start_time": "2021-03-07T05:58:39.111409Z"
    }
   },
   "outputs": [],
   "source": [
    "## Train\n",
    "train_text = open(r\"./datasets/sentiment/train_text.txt\", \"r\", encoding=\"utf-8\")\n",
    "train_labels = open(r\"./datasets/sentiment/train_labels.txt\", \"r\", encoding=\"utf-8\")\n",
    "\n",
    "## Validation\n",
    "val_text = open(r\"./datasets/sentiment/val_text.txt\", \"r\", encoding=\"utf-8\")\n",
    "val_labels = open(r\"./datasets/sentiment/val_labels.txt\", \"r\", encoding=\"utf-8\")\n",
    "\n",
    "### Test\n",
    "test_text = open(r\"./datasets/sentiment/test_text.txt\", \"r\", encoding=\"utf-8\")\n",
    "test_labels = open(r\"./datasets/sentiment/test_labels.txt\", \"r\", encoding=\"utf-8\")"
   ]
  },
  {
   "cell_type": "code",
   "execution_count": 31,
   "metadata": {
    "ExecuteTime": {
     "end_time": "2021-03-07T05:58:39.523200Z",
     "start_time": "2021-03-07T05:58:39.506129Z"
    }
   },
   "outputs": [],
   "source": [
    "def load_datasets(text_file, label_file):\n",
    "    out_ls = []\n",
    "    for label, text in zip(label_file, text_file):\n",
    "        i = text.strip().split(\"\\n\")\n",
    "        j = label.strip().split(\"\\n\")\n",
    "        out_ls.append([i[0], j[0]])\n",
    "\n",
    "    output_df = pd.DataFrame(out_ls, columns = [\"full_text\", \"sentiment\"])\n",
    "    \n",
    "    return output_df"
   ]
  },
  {
   "cell_type": "code",
   "execution_count": 32,
   "metadata": {
    "ExecuteTime": {
     "end_time": "2021-03-07T05:58:40.603562Z",
     "start_time": "2021-03-07T05:58:40.522983Z"
    }
   },
   "outputs": [
    {
     "name": "stdout",
     "output_type": "stream",
     "text": [
      "There are 45615 Rows and 2 Columns in Train Dataset\n",
      "There are 2000 Rows and 2 Columns in Validation Dataset\n",
      "There are 12284 Rows and 2 Columns in Test Dataset\n"
     ]
    }
   ],
   "source": [
    "train_df = load_datasets(train_text, train_labels)\n",
    "print(\"There are {} Rows and {} Columns in Train Dataset\".format(train_df.shape[0], train_df.shape[1]))\n",
    "val_df = load_datasets(val_text, val_labels)\n",
    "print(\"There are {} Rows and {} Columns in Validation Dataset\".format(val_df.shape[0], val_df.shape[1]))\n",
    "test_df = load_datasets(test_text, test_labels)\n",
    "print(\"There are {} Rows and {} Columns in Test Dataset\".format(test_df.shape[0], test_df.shape[1]))"
   ]
  },
  {
   "cell_type": "code",
   "execution_count": 34,
   "metadata": {
    "ExecuteTime": {
     "end_time": "2021-03-07T06:01:19.047966Z",
     "start_time": "2021-03-07T06:01:19.030167Z"
    }
   },
   "outputs": [],
   "source": [
    "train_df[\"data_flag\"] = \"TRAIN\"\n",
    "val_df[\"data_flag\"] = \"VAL\"\n",
    "test_df[\"data_flag\"] = \"TEST\""
   ]
  },
  {
   "cell_type": "code",
   "execution_count": 35,
   "metadata": {
    "ExecuteTime": {
     "end_time": "2021-03-07T06:01:37.177540Z",
     "start_time": "2021-03-07T06:01:37.151065Z"
    }
   },
   "outputs": [],
   "source": [
    "combined_df = pd.concat([train_df, val_df, test_df], axis=0, ignore_index=True)"
   ]
  },
  {
   "cell_type": "code",
   "execution_count": 36,
   "metadata": {
    "ExecuteTime": {
     "end_time": "2021-03-07T06:01:45.017744Z",
     "start_time": "2021-03-07T06:01:45.004777Z"
    }
   },
   "outputs": [
    {
     "data": {
      "text/html": [
       "<div>\n",
       "<style scoped>\n",
       "    .dataframe tbody tr th:only-of-type {\n",
       "        vertical-align: middle;\n",
       "    }\n",
       "\n",
       "    .dataframe tbody tr th {\n",
       "        vertical-align: top;\n",
       "    }\n",
       "\n",
       "    .dataframe thead th {\n",
       "        text-align: right;\n",
       "    }\n",
       "</style>\n",
       "<table border=\"1\" class=\"dataframe\">\n",
       "  <thead>\n",
       "    <tr style=\"text-align: right;\">\n",
       "      <th></th>\n",
       "      <th>full_text</th>\n",
       "      <th>sentiment</th>\n",
       "      <th>data_flag</th>\n",
       "    </tr>\n",
       "  </thead>\n",
       "  <tbody>\n",
       "    <tr>\n",
       "      <th>0</th>\n",
       "      <td>\"QT @user In the original draft of the 7th book, Remus Lupin survived the Battle of Hogwarts. #HappyBirthdayRemusLupin\"</td>\n",
       "      <td>2</td>\n",
       "      <td>TRAIN</td>\n",
       "    </tr>\n",
       "    <tr>\n",
       "      <th>1</th>\n",
       "      <td>\"Ben Smith / Smith (concussion) remains out of the lineup Thursday, Curtis #NHL #SJ\"</td>\n",
       "      <td>1</td>\n",
       "      <td>TRAIN</td>\n",
       "    </tr>\n",
       "    <tr>\n",
       "      <th>2</th>\n",
       "      <td>Sorry bout the stream last night I crashed out but will be on tonight for sure. Then back to Minecraft in pc tomorrow night.</td>\n",
       "      <td>1</td>\n",
       "      <td>TRAIN</td>\n",
       "    </tr>\n",
       "    <tr>\n",
       "      <th>3</th>\n",
       "      <td>Chase Headley's RBI double in the 8th inning off David Price snapped a Yankees streak of 33 consecutive scoreless innings against Blue Jays</td>\n",
       "      <td>1</td>\n",
       "      <td>TRAIN</td>\n",
       "    </tr>\n",
       "    <tr>\n",
       "      <th>4</th>\n",
       "      <td>@user Alciato: Bee will invest 150 million in January, another 200 in the Summer and plans to bring Messi by 2017\"</td>\n",
       "      <td>2</td>\n",
       "      <td>TRAIN</td>\n",
       "    </tr>\n",
       "  </tbody>\n",
       "</table>\n",
       "</div>"
      ],
      "text/plain": [
       "                                                                                                                                     full_text  \\\n",
       "0  \"QT @user In the original draft of the 7th book, Remus Lupin survived the Battle of Hogwarts. #HappyBirthdayRemusLupin\"                       \n",
       "1  \"Ben Smith / Smith (concussion) remains out of the lineup Thursday, Curtis #NHL #SJ\"                                                          \n",
       "2  Sorry bout the stream last night I crashed out but will be on tonight for sure. Then back to Minecraft in pc tomorrow night.                  \n",
       "3  Chase Headley's RBI double in the 8th inning off David Price snapped a Yankees streak of 33 consecutive scoreless innings against Blue Jays   \n",
       "4  @user Alciato: Bee will invest 150 million in January, another 200 in the Summer and plans to bring Messi by 2017\"                            \n",
       "\n",
       "  sentiment data_flag  \n",
       "0  2         TRAIN     \n",
       "1  1         TRAIN     \n",
       "2  1         TRAIN     \n",
       "3  1         TRAIN     \n",
       "4  2         TRAIN     "
      ]
     },
     "execution_count": 36,
     "metadata": {},
     "output_type": "execute_result"
    }
   ],
   "source": [
    "combined_df.head()"
   ]
  },
  {
   "cell_type": "markdown",
   "metadata": {},
   "source": [
    "### Data Preprocessing"
   ]
  },
  {
   "cell_type": "code",
   "execution_count": 10,
   "metadata": {
    "ExecuteTime": {
     "end_time": "2021-03-25T12:44:46.064783Z",
     "start_time": "2021-03-25T12:44:45.780310Z"
    }
   },
   "outputs": [],
   "source": [
    "from nltk.stem.porter import * \n",
    "stemmer = PorterStemmer()\n",
    "import string\n",
    "\n",
    "def text_preprocessing(input_txt):\n",
    "    \n",
    "    input_txt = str(input_txt)\n",
    "    ## Remove specific pattern words\n",
    "    pattern = \"@[\\w]*\"\n",
    "    r = re.findall(pattern, input_txt)\n",
    "    for i in r:\n",
    "        input_txt = re.sub(i, '', input_txt)\n",
    "    \n",
    "    input_txt = re.sub(r'http\\S+|www\\.\\S+', '', input_txt)\n",
    "    \n",
    "    for punct in '?!.,\"$%\\'()*+-/:;<=>@[\\\\]^_`{|}~&' + '“”’':\n",
    "        input_txt = input_txt.replace(punct, ' ')\n",
    "    \n",
    "    input_txt = input_txt.replace(\"[^a-zA-Z#]\", \" \") \n",
    "    \n",
    "    if bool(re.search(r'\\d', input_txt)):\n",
    "        input_txt = re.sub('[0-9]', ' ', input_txt)\n",
    "            \n",
    "    ## Removing Short Words:\n",
    "    input_txt = ' '.join([w for w in input_txt.split() if len(w)>3])\n",
    "    input_txt = input_txt.replace('\"', \"\")\n",
    "    input_txt = input_txt.replace(\"'\", \"\")\n",
    "    input_txt = input_txt.split()\n",
    "    \n",
    "    # Normalise the tokenized words:\n",
    "    input_txt = \" \".join([stemmer.stem(i) for i in input_txt])\n",
    "    \n",
    "    return input_txt.strip()"
   ]
  },
  {
   "cell_type": "code",
   "execution_count": 92,
   "metadata": {
    "ExecuteTime": {
     "end_time": "2021-03-07T06:34:41.606907Z",
     "start_time": "2021-03-07T06:34:31.541672Z"
    }
   },
   "outputs": [
    {
     "data": {
      "application/vnd.jupyter.widget-view+json": {
       "model_id": "633e0c01bdd74d5faa22d2fc199fc228",
       "version_major": 2,
       "version_minor": 0
      },
      "text/plain": [
       "Progress:   0%|          | 0/59899 [00:00<?, ?it/s]"
      ]
     },
     "metadata": {},
     "output_type": "display_data"
    }
   ],
   "source": [
    "combined_df[\"full_cleaned_text\"] = combined_df[\"full_text\"].progress_apply(lambda i: text_preprocessing(i))"
   ]
  },
  {
   "cell_type": "code",
   "execution_count": 93,
   "metadata": {
    "ExecuteTime": {
     "end_time": "2021-03-07T06:34:42.451202Z",
     "start_time": "2021-03-07T06:34:42.428235Z"
    }
   },
   "outputs": [
    {
     "data": {
      "text/html": [
       "<div>\n",
       "<style scoped>\n",
       "    .dataframe tbody tr th:only-of-type {\n",
       "        vertical-align: middle;\n",
       "    }\n",
       "\n",
       "    .dataframe tbody tr th {\n",
       "        vertical-align: top;\n",
       "    }\n",
       "\n",
       "    .dataframe thead th {\n",
       "        text-align: right;\n",
       "    }\n",
       "</style>\n",
       "<table border=\"1\" class=\"dataframe\">\n",
       "  <thead>\n",
       "    <tr style=\"text-align: right;\">\n",
       "      <th></th>\n",
       "      <th>full_text</th>\n",
       "      <th>sentiment</th>\n",
       "      <th>data_flag</th>\n",
       "      <th>full_cleaned_text</th>\n",
       "    </tr>\n",
       "  </thead>\n",
       "  <tbody>\n",
       "    <tr>\n",
       "      <th>0</th>\n",
       "      <td>\"QT @user In the original draft of the 7th book, Remus Lupin survived the Battle of Hogwarts. #HappyBirthdayRemusLupin\"</td>\n",
       "      <td>2</td>\n",
       "      <td>TRAIN</td>\n",
       "      <td>origin draft book remu lupin surviv battl hogwart #happybirthdayremuslupin</td>\n",
       "    </tr>\n",
       "    <tr>\n",
       "      <th>1</th>\n",
       "      <td>\"Ben Smith / Smith (concussion) remains out of the lineup Thursday, Curtis #NHL #SJ\"</td>\n",
       "      <td>1</td>\n",
       "      <td>TRAIN</td>\n",
       "      <td>smith smith concuss remain lineup thursday curti #nhl</td>\n",
       "    </tr>\n",
       "    <tr>\n",
       "      <th>2</th>\n",
       "      <td>Sorry bout the stream last night I crashed out but will be on tonight for sure. Then back to Minecraft in pc tomorrow night.</td>\n",
       "      <td>1</td>\n",
       "      <td>TRAIN</td>\n",
       "      <td>sorri bout stream last night crash will tonight sure then back minecraft tomorrow night</td>\n",
       "    </tr>\n",
       "    <tr>\n",
       "      <th>3</th>\n",
       "      <td>Chase Headley's RBI double in the 8th inning off David Price snapped a Yankees streak of 33 consecutive scoreless innings against Blue Jays</td>\n",
       "      <td>1</td>\n",
       "      <td>TRAIN</td>\n",
       "      <td>chase headley doubl inning david price snap yanke streak consecut scoreless inning against blue jay</td>\n",
       "    </tr>\n",
       "    <tr>\n",
       "      <th>4</th>\n",
       "      <td>@user Alciato: Bee will invest 150 million in January, another 200 in the Summer and plans to bring Messi by 2017\"</td>\n",
       "      <td>2</td>\n",
       "      <td>TRAIN</td>\n",
       "      <td>alciato will invest million januari anoth summer plan bring messi</td>\n",
       "    </tr>\n",
       "  </tbody>\n",
       "</table>\n",
       "</div>"
      ],
      "text/plain": [
       "                                                                                                                                     full_text  \\\n",
       "0  \"QT @user In the original draft of the 7th book, Remus Lupin survived the Battle of Hogwarts. #HappyBirthdayRemusLupin\"                       \n",
       "1  \"Ben Smith / Smith (concussion) remains out of the lineup Thursday, Curtis #NHL #SJ\"                                                          \n",
       "2  Sorry bout the stream last night I crashed out but will be on tonight for sure. Then back to Minecraft in pc tomorrow night.                  \n",
       "3  Chase Headley's RBI double in the 8th inning off David Price snapped a Yankees streak of 33 consecutive scoreless innings against Blue Jays   \n",
       "4  @user Alciato: Bee will invest 150 million in January, another 200 in the Summer and plans to bring Messi by 2017\"                            \n",
       "\n",
       "  sentiment data_flag  \\\n",
       "0  2         TRAIN      \n",
       "1  1         TRAIN      \n",
       "2  1         TRAIN      \n",
       "3  1         TRAIN      \n",
       "4  2         TRAIN      \n",
       "\n",
       "                                                                                     full_cleaned_text  \n",
       "0  origin draft book remu lupin surviv battl hogwart #happybirthdayremuslupin                           \n",
       "1  smith smith concuss remain lineup thursday curti #nhl                                                \n",
       "2  sorri bout stream last night crash will tonight sure then back minecraft tomorrow night              \n",
       "3  chase headley doubl inning david price snap yanke streak consecut scoreless inning against blue jay  \n",
       "4  alciato will invest million januari anoth summer plan bring messi                                    "
      ]
     },
     "execution_count": 93,
     "metadata": {},
     "output_type": "execute_result"
    }
   ],
   "source": [
    "combined_df.head()"
   ]
  },
  {
   "cell_type": "markdown",
   "metadata": {},
   "source": [
    "### Modeling Data Preparation"
   ]
  },
  {
   "cell_type": "code",
   "execution_count": 104,
   "metadata": {
    "ExecuteTime": {
     "end_time": "2021-03-07T06:43:51.860467Z",
     "start_time": "2021-03-07T06:43:51.807295Z"
    }
   },
   "outputs": [],
   "source": [
    "model_train_df = combined_df[combined_df[\"data_flag\"]==\"TRAIN\"][[\"sentiment\", \"full_cleaned_text\"]]\n",
    "model_val_df = combined_df[combined_df[\"data_flag\"]==\"VAL\"][[\"sentiment\", \"full_cleaned_text\"]]\n",
    "model_test_df = combined_df[combined_df[\"data_flag\"]==\"TEST\"][[\"sentiment\", \"full_cleaned_text\"]]"
   ]
  },
  {
   "cell_type": "code",
   "execution_count": 102,
   "metadata": {
    "ExecuteTime": {
     "end_time": "2021-03-07T06:42:34.734946Z",
     "start_time": "2021-03-07T06:42:32.713904Z"
    }
   },
   "outputs": [],
   "source": [
    "transform_tfidf = TfidfVectorizer(ngram_range=(1,3), # ngrams - unigram to trigram\n",
    "                                min_df=3, # removing terms that appear too infrequently\n",
    "                                max_df=0.9, # removing terms that appear too frequently\n",
    "                                strip_accents='unicode', # unicode characters\n",
    "                                use_idf=1, # Enable inverse-document-frequency reweighting\n",
    "                                smooth_idf=1, # Smooth idf weights by adding one to document frequencies\n",
    "                                sublinear_tf=1).fit(combined_df[\"full_cleaned_text\"]) # Apply sublinear tf scaling; replace tf with 1 + log(tf)."
   ]
  },
  {
   "cell_type": "code",
   "execution_count": 103,
   "metadata": {
    "ExecuteTime": {
     "end_time": "2021-03-07T06:42:36.613266Z",
     "start_time": "2021-03-07T06:42:36.281940Z"
    }
   },
   "outputs": [],
   "source": [
    "import pickle\n",
    "pickle.dump(transform_tfidf, open(\"twitter_sentiment_tfidf.pkl\", \"wb\"))"
   ]
  },
  {
   "cell_type": "code",
   "execution_count": 105,
   "metadata": {
    "ExecuteTime": {
     "end_time": "2021-03-07T06:44:24.764803Z",
     "start_time": "2021-03-07T06:44:23.434300Z"
    }
   },
   "outputs": [],
   "source": [
    "# =============================================================================\n",
    "# Transforming training & testing & validation data\n",
    "# =============================================================================\n",
    "\n",
    "train_transform = transform_tfidf.transform(model_train_df[\"full_cleaned_text\"]) # Transforming training data\n",
    "val_transform = transform_tfidf.transform(model_val_df[\"full_cleaned_text\"]) # Transforming training data\n",
    "test_transform = transform_tfidf.transform(model_test_df[\"full_cleaned_text\"]) # Transforming validation data"
   ]
  },
  {
   "cell_type": "code",
   "execution_count": 107,
   "metadata": {
    "ExecuteTime": {
     "end_time": "2021-03-07T06:46:06.455062Z",
     "start_time": "2021-03-07T06:46:06.438199Z"
    }
   },
   "outputs": [],
   "source": [
    "y_train = model_train_df[\"sentiment\"]\n",
    "y_val = model_val_df[\"sentiment\"]\n",
    "y_test = model_test_df[\"sentiment\"]"
   ]
  },
  {
   "cell_type": "code",
   "execution_count": 112,
   "metadata": {
    "ExecuteTime": {
     "end_time": "2021-03-07T06:50:11.244768Z",
     "start_time": "2021-03-07T06:50:11.226799Z"
    }
   },
   "outputs": [],
   "source": [
    "def run_xgb(train_X, train_y, test_X, test_y=None, feature_names=None, seed_val=2017, num_rounds=500):\n",
    "    \"\"\"\n",
    "    Function to Run XGBoost Model (Binary Classification)\n",
    "    \"\"\"\n",
    "    param = {}\n",
    "    param['objective'] = 'multi:softprob'\n",
    "    param['eta'] = 0.1\n",
    "    param['max_depth'] = 6\n",
    "    param['silent'] = 1\n",
    "    param['num_class'] = 3\n",
    "    param['eval_metric'] = 'mlogloss'\n",
    "    param['min_child_weight'] = 1\n",
    "    param['subsample'] = 0.7\n",
    "    param['colsample_bytree'] = 0.7\n",
    "    param['seed'] = seed_val\n",
    "    num_rounds = num_rounds\n",
    "\n",
    "    plst = list(param.items())\n",
    "    xgtrain = xgb.DMatrix(train_X, label=train_y)\n",
    "\n",
    "    if test_y is not None:\n",
    "        xgtest = xgb.DMatrix(test_X, label=test_y)\n",
    "        watchlist = [ (xgtrain,'train'), (xgtest, 'test') ]\n",
    "        model = xgb.train(plst, xgtrain, num_rounds, watchlist, early_stopping_rounds=20)\n",
    "    else:\n",
    "        xgtest = xgb.DMatrix(test_X)\n",
    "        model = xgb.train(plst, xgtrain, num_rounds)\n",
    "\n",
    "    return model    "
   ]
  },
  {
   "cell_type": "code",
   "execution_count": 113,
   "metadata": {
    "ExecuteTime": {
     "end_time": "2021-03-07T06:52:26.138723Z",
     "start_time": "2021-03-07T06:50:11.798328Z"
    },
    "scrolled": true
   },
   "outputs": [
    {
     "name": "stdout",
     "output_type": "stream",
     "text": [
      "[12:20:11] WARNING: C:/Users/Administrator/workspace/xgboost-win64_release_1.3.0/src/learner.cc:541: \n",
      "Parameters: { silent } might not be used.\n",
      "\n",
      "  This may not be accurate due to some parameters are only used in language bindings but\n",
      "  passed down to XGBoost core.  Or some parameters are not used but slip through this\n",
      "  verification. Please open an issue if you find above cases.\n",
      "\n",
      "\n",
      "[0]\ttrain-mlogloss:1.07760\ttest-mlogloss:1.07941\n",
      "[1]\ttrain-mlogloss:1.06023\ttest-mlogloss:1.06311\n",
      "[2]\ttrain-mlogloss:1.04392\ttest-mlogloss:1.04742\n",
      "[3]\ttrain-mlogloss:1.03002\ttest-mlogloss:1.03467\n",
      "[4]\ttrain-mlogloss:1.01820\ttest-mlogloss:1.02324\n",
      "[5]\ttrain-mlogloss:1.00743\ttest-mlogloss:1.01328\n",
      "[6]\ttrain-mlogloss:0.99770\ttest-mlogloss:1.00389\n",
      "[7]\ttrain-mlogloss:0.98922\ttest-mlogloss:0.99639\n",
      "[8]\ttrain-mlogloss:0.98189\ttest-mlogloss:0.98908\n",
      "[9]\ttrain-mlogloss:0.97515\ttest-mlogloss:0.98318\n",
      "[10]\ttrain-mlogloss:0.96923\ttest-mlogloss:0.97757\n",
      "[11]\ttrain-mlogloss:0.96352\ttest-mlogloss:0.97224\n",
      "[12]\ttrain-mlogloss:0.95838\ttest-mlogloss:0.96737\n",
      "[13]\ttrain-mlogloss:0.95348\ttest-mlogloss:0.96313\n",
      "[14]\ttrain-mlogloss:0.94903\ttest-mlogloss:0.95842\n",
      "[15]\ttrain-mlogloss:0.94474\ttest-mlogloss:0.95478\n",
      "[16]\ttrain-mlogloss:0.94088\ttest-mlogloss:0.95142\n",
      "[17]\ttrain-mlogloss:0.93737\ttest-mlogloss:0.94832\n",
      "[18]\ttrain-mlogloss:0.93414\ttest-mlogloss:0.94504\n",
      "[19]\ttrain-mlogloss:0.93091\ttest-mlogloss:0.94245\n",
      "[20]\ttrain-mlogloss:0.92801\ttest-mlogloss:0.94017\n",
      "[21]\ttrain-mlogloss:0.92512\ttest-mlogloss:0.93763\n",
      "[22]\ttrain-mlogloss:0.92249\ttest-mlogloss:0.93564\n",
      "[23]\ttrain-mlogloss:0.92009\ttest-mlogloss:0.93317\n",
      "[24]\ttrain-mlogloss:0.91774\ttest-mlogloss:0.93077\n",
      "[25]\ttrain-mlogloss:0.91547\ttest-mlogloss:0.92871\n",
      "[26]\ttrain-mlogloss:0.91319\ttest-mlogloss:0.92739\n",
      "[27]\ttrain-mlogloss:0.91109\ttest-mlogloss:0.92570\n",
      "[28]\ttrain-mlogloss:0.90891\ttest-mlogloss:0.92405\n",
      "[29]\ttrain-mlogloss:0.90702\ttest-mlogloss:0.92263\n",
      "[30]\ttrain-mlogloss:0.90507\ttest-mlogloss:0.92111\n",
      "[31]\ttrain-mlogloss:0.90326\ttest-mlogloss:0.91923\n",
      "[32]\ttrain-mlogloss:0.90148\ttest-mlogloss:0.91767\n",
      "[33]\ttrain-mlogloss:0.89977\ttest-mlogloss:0.91627\n",
      "[34]\ttrain-mlogloss:0.89810\ttest-mlogloss:0.91441\n",
      "[35]\ttrain-mlogloss:0.89638\ttest-mlogloss:0.91333\n",
      "[36]\ttrain-mlogloss:0.89478\ttest-mlogloss:0.91254\n",
      "[37]\ttrain-mlogloss:0.89322\ttest-mlogloss:0.91107\n",
      "[38]\ttrain-mlogloss:0.89167\ttest-mlogloss:0.90955\n",
      "[39]\ttrain-mlogloss:0.89017\ttest-mlogloss:0.90825\n",
      "[40]\ttrain-mlogloss:0.88864\ttest-mlogloss:0.90720\n",
      "[41]\ttrain-mlogloss:0.88726\ttest-mlogloss:0.90608\n",
      "[42]\ttrain-mlogloss:0.88581\ttest-mlogloss:0.90493\n",
      "[43]\ttrain-mlogloss:0.88437\ttest-mlogloss:0.90374\n",
      "[44]\ttrain-mlogloss:0.88315\ttest-mlogloss:0.90261\n",
      "[45]\ttrain-mlogloss:0.88177\ttest-mlogloss:0.90146\n",
      "[46]\ttrain-mlogloss:0.88042\ttest-mlogloss:0.90041\n",
      "[47]\ttrain-mlogloss:0.87921\ttest-mlogloss:0.89948\n",
      "[48]\ttrain-mlogloss:0.87793\ttest-mlogloss:0.89853\n",
      "[49]\ttrain-mlogloss:0.87666\ttest-mlogloss:0.89702\n",
      "[50]\ttrain-mlogloss:0.87533\ttest-mlogloss:0.89612\n",
      "[51]\ttrain-mlogloss:0.87405\ttest-mlogloss:0.89540\n",
      "[52]\ttrain-mlogloss:0.87286\ttest-mlogloss:0.89448\n",
      "[53]\ttrain-mlogloss:0.87171\ttest-mlogloss:0.89316\n",
      "[54]\ttrain-mlogloss:0.87055\ttest-mlogloss:0.89220\n",
      "[55]\ttrain-mlogloss:0.86941\ttest-mlogloss:0.89154\n",
      "[56]\ttrain-mlogloss:0.86822\ttest-mlogloss:0.89045\n",
      "[57]\ttrain-mlogloss:0.86710\ttest-mlogloss:0.88954\n",
      "[58]\ttrain-mlogloss:0.86598\ttest-mlogloss:0.88836\n",
      "[59]\ttrain-mlogloss:0.86485\ttest-mlogloss:0.88817\n",
      "[60]\ttrain-mlogloss:0.86370\ttest-mlogloss:0.88719\n",
      "[61]\ttrain-mlogloss:0.86261\ttest-mlogloss:0.88634\n",
      "[62]\ttrain-mlogloss:0.86140\ttest-mlogloss:0.88588\n",
      "[63]\ttrain-mlogloss:0.86027\ttest-mlogloss:0.88490\n",
      "[64]\ttrain-mlogloss:0.85913\ttest-mlogloss:0.88448\n",
      "[65]\ttrain-mlogloss:0.85811\ttest-mlogloss:0.88390\n",
      "[66]\ttrain-mlogloss:0.85712\ttest-mlogloss:0.88335\n",
      "[67]\ttrain-mlogloss:0.85610\ttest-mlogloss:0.88227\n",
      "[68]\ttrain-mlogloss:0.85510\ttest-mlogloss:0.88160\n",
      "[69]\ttrain-mlogloss:0.85397\ttest-mlogloss:0.88057\n",
      "[70]\ttrain-mlogloss:0.85296\ttest-mlogloss:0.87984\n",
      "[71]\ttrain-mlogloss:0.85200\ttest-mlogloss:0.87945\n",
      "[72]\ttrain-mlogloss:0.85105\ttest-mlogloss:0.87904\n",
      "[73]\ttrain-mlogloss:0.84999\ttest-mlogloss:0.87860\n",
      "[74]\ttrain-mlogloss:0.84891\ttest-mlogloss:0.87795\n",
      "[75]\ttrain-mlogloss:0.84792\ttest-mlogloss:0.87767\n",
      "[76]\ttrain-mlogloss:0.84691\ttest-mlogloss:0.87714\n",
      "[77]\ttrain-mlogloss:0.84602\ttest-mlogloss:0.87645\n",
      "[78]\ttrain-mlogloss:0.84521\ttest-mlogloss:0.87541\n",
      "[79]\ttrain-mlogloss:0.84434\ttest-mlogloss:0.87485\n",
      "[80]\ttrain-mlogloss:0.84344\ttest-mlogloss:0.87406\n",
      "[81]\ttrain-mlogloss:0.84256\ttest-mlogloss:0.87357\n",
      "[82]\ttrain-mlogloss:0.84171\ttest-mlogloss:0.87295\n",
      "[83]\ttrain-mlogloss:0.84082\ttest-mlogloss:0.87238\n",
      "[84]\ttrain-mlogloss:0.84000\ttest-mlogloss:0.87172\n",
      "[85]\ttrain-mlogloss:0.83916\ttest-mlogloss:0.87147\n",
      "[86]\ttrain-mlogloss:0.83832\ttest-mlogloss:0.87094\n",
      "[87]\ttrain-mlogloss:0.83739\ttest-mlogloss:0.87059\n",
      "[88]\ttrain-mlogloss:0.83658\ttest-mlogloss:0.86974\n",
      "[89]\ttrain-mlogloss:0.83577\ttest-mlogloss:0.86889\n",
      "[90]\ttrain-mlogloss:0.83486\ttest-mlogloss:0.86834\n",
      "[91]\ttrain-mlogloss:0.83400\ttest-mlogloss:0.86792\n",
      "[92]\ttrain-mlogloss:0.83315\ttest-mlogloss:0.86780\n",
      "[93]\ttrain-mlogloss:0.83225\ttest-mlogloss:0.86750\n",
      "[94]\ttrain-mlogloss:0.83142\ttest-mlogloss:0.86693\n",
      "[95]\ttrain-mlogloss:0.83058\ttest-mlogloss:0.86638\n",
      "[96]\ttrain-mlogloss:0.82980\ttest-mlogloss:0.86590\n",
      "[97]\ttrain-mlogloss:0.82900\ttest-mlogloss:0.86550\n",
      "[98]\ttrain-mlogloss:0.82825\ttest-mlogloss:0.86495\n",
      "[99]\ttrain-mlogloss:0.82748\ttest-mlogloss:0.86450\n",
      "[100]\ttrain-mlogloss:0.82669\ttest-mlogloss:0.86410\n",
      "[101]\ttrain-mlogloss:0.82579\ttest-mlogloss:0.86346\n",
      "[102]\ttrain-mlogloss:0.82502\ttest-mlogloss:0.86273\n",
      "[103]\ttrain-mlogloss:0.82427\ttest-mlogloss:0.86233\n",
      "[104]\ttrain-mlogloss:0.82353\ttest-mlogloss:0.86216\n",
      "[105]\ttrain-mlogloss:0.82281\ttest-mlogloss:0.86160\n",
      "[106]\ttrain-mlogloss:0.82211\ttest-mlogloss:0.86091\n",
      "[107]\ttrain-mlogloss:0.82140\ttest-mlogloss:0.86094\n",
      "[108]\ttrain-mlogloss:0.82060\ttest-mlogloss:0.86069\n",
      "[109]\ttrain-mlogloss:0.81989\ttest-mlogloss:0.86040\n",
      "[110]\ttrain-mlogloss:0.81923\ttest-mlogloss:0.85988\n",
      "[111]\ttrain-mlogloss:0.81851\ttest-mlogloss:0.85921\n",
      "[112]\ttrain-mlogloss:0.81782\ttest-mlogloss:0.85890\n",
      "[113]\ttrain-mlogloss:0.81711\ttest-mlogloss:0.85858\n",
      "[114]\ttrain-mlogloss:0.81645\ttest-mlogloss:0.85791\n",
      "[115]\ttrain-mlogloss:0.81573\ttest-mlogloss:0.85756\n",
      "[116]\ttrain-mlogloss:0.81502\ttest-mlogloss:0.85715\n",
      "[117]\ttrain-mlogloss:0.81429\ttest-mlogloss:0.85695\n",
      "[118]\ttrain-mlogloss:0.81357\ttest-mlogloss:0.85677\n",
      "[119]\ttrain-mlogloss:0.81278\ttest-mlogloss:0.85636\n",
      "[120]\ttrain-mlogloss:0.81212\ttest-mlogloss:0.85596\n",
      "[121]\ttrain-mlogloss:0.81148\ttest-mlogloss:0.85575\n",
      "[122]\ttrain-mlogloss:0.81082\ttest-mlogloss:0.85551\n",
      "[123]\ttrain-mlogloss:0.81013\ttest-mlogloss:0.85496\n",
      "[124]\ttrain-mlogloss:0.80936\ttest-mlogloss:0.85441\n",
      "[125]\ttrain-mlogloss:0.80861\ttest-mlogloss:0.85400\n",
      "[126]\ttrain-mlogloss:0.80800\ttest-mlogloss:0.85336\n",
      "[127]\ttrain-mlogloss:0.80739\ttest-mlogloss:0.85286\n",
      "[128]\ttrain-mlogloss:0.80673\ttest-mlogloss:0.85241\n",
      "[129]\ttrain-mlogloss:0.80604\ttest-mlogloss:0.85212\n",
      "[130]\ttrain-mlogloss:0.80528\ttest-mlogloss:0.85174\n",
      "[131]\ttrain-mlogloss:0.80469\ttest-mlogloss:0.85133\n",
      "[132]\ttrain-mlogloss:0.80413\ttest-mlogloss:0.85062\n",
      "[133]\ttrain-mlogloss:0.80354\ttest-mlogloss:0.85008\n",
      "[134]\ttrain-mlogloss:0.80288\ttest-mlogloss:0.84956\n",
      "[135]\ttrain-mlogloss:0.80229\ttest-mlogloss:0.84945\n",
      "[136]\ttrain-mlogloss:0.80168\ttest-mlogloss:0.84893\n",
      "[137]\ttrain-mlogloss:0.80101\ttest-mlogloss:0.84830\n",
      "[138]\ttrain-mlogloss:0.80039\ttest-mlogloss:0.84793\n",
      "[139]\ttrain-mlogloss:0.79976\ttest-mlogloss:0.84779\n",
      "[140]\ttrain-mlogloss:0.79916\ttest-mlogloss:0.84749\n",
      "[141]\ttrain-mlogloss:0.79851\ttest-mlogloss:0.84718\n",
      "[142]\ttrain-mlogloss:0.79789\ttest-mlogloss:0.84690\n",
      "[143]\ttrain-mlogloss:0.79734\ttest-mlogloss:0.84653\n",
      "[144]\ttrain-mlogloss:0.79671\ttest-mlogloss:0.84636\n",
      "[145]\ttrain-mlogloss:0.79613\ttest-mlogloss:0.84604\n",
      "[146]\ttrain-mlogloss:0.79553\ttest-mlogloss:0.84593\n",
      "[147]\ttrain-mlogloss:0.79492\ttest-mlogloss:0.84567\n",
      "[148]\ttrain-mlogloss:0.79431\ttest-mlogloss:0.84515\n",
      "[149]\ttrain-mlogloss:0.79379\ttest-mlogloss:0.84461\n",
      "[150]\ttrain-mlogloss:0.79322\ttest-mlogloss:0.84421\n",
      "[151]\ttrain-mlogloss:0.79261\ttest-mlogloss:0.84391\n",
      "[152]\ttrain-mlogloss:0.79208\ttest-mlogloss:0.84351\n",
      "[153]\ttrain-mlogloss:0.79152\ttest-mlogloss:0.84320\n",
      "[154]\ttrain-mlogloss:0.79098\ttest-mlogloss:0.84277\n",
      "[155]\ttrain-mlogloss:0.79043\ttest-mlogloss:0.84224\n"
     ]
    },
    {
     "name": "stdout",
     "output_type": "stream",
     "text": [
      "[156]\ttrain-mlogloss:0.78991\ttest-mlogloss:0.84208\n",
      "[157]\ttrain-mlogloss:0.78935\ttest-mlogloss:0.84151\n",
      "[158]\ttrain-mlogloss:0.78870\ttest-mlogloss:0.84141\n",
      "[159]\ttrain-mlogloss:0.78814\ttest-mlogloss:0.84144\n",
      "[160]\ttrain-mlogloss:0.78762\ttest-mlogloss:0.84126\n",
      "[161]\ttrain-mlogloss:0.78702\ttest-mlogloss:0.84050\n",
      "[162]\ttrain-mlogloss:0.78651\ttest-mlogloss:0.84012\n",
      "[163]\ttrain-mlogloss:0.78599\ttest-mlogloss:0.83990\n",
      "[164]\ttrain-mlogloss:0.78548\ttest-mlogloss:0.83969\n",
      "[165]\ttrain-mlogloss:0.78492\ttest-mlogloss:0.83931\n",
      "[166]\ttrain-mlogloss:0.78441\ttest-mlogloss:0.83918\n",
      "[167]\ttrain-mlogloss:0.78382\ttest-mlogloss:0.83885\n",
      "[168]\ttrain-mlogloss:0.78328\ttest-mlogloss:0.83876\n",
      "[169]\ttrain-mlogloss:0.78270\ttest-mlogloss:0.83844\n",
      "[170]\ttrain-mlogloss:0.78220\ttest-mlogloss:0.83815\n",
      "[171]\ttrain-mlogloss:0.78165\ttest-mlogloss:0.83783\n",
      "[172]\ttrain-mlogloss:0.78108\ttest-mlogloss:0.83743\n",
      "[173]\ttrain-mlogloss:0.78057\ttest-mlogloss:0.83711\n",
      "[174]\ttrain-mlogloss:0.78012\ttest-mlogloss:0.83678\n",
      "[175]\ttrain-mlogloss:0.77959\ttest-mlogloss:0.83633\n",
      "[176]\ttrain-mlogloss:0.77907\ttest-mlogloss:0.83592\n",
      "[177]\ttrain-mlogloss:0.77851\ttest-mlogloss:0.83549\n",
      "[178]\ttrain-mlogloss:0.77799\ttest-mlogloss:0.83507\n",
      "[179]\ttrain-mlogloss:0.77750\ttest-mlogloss:0.83471\n",
      "[180]\ttrain-mlogloss:0.77694\ttest-mlogloss:0.83421\n",
      "[181]\ttrain-mlogloss:0.77641\ttest-mlogloss:0.83388\n",
      "[182]\ttrain-mlogloss:0.77594\ttest-mlogloss:0.83386\n",
      "[183]\ttrain-mlogloss:0.77544\ttest-mlogloss:0.83331\n",
      "[184]\ttrain-mlogloss:0.77499\ttest-mlogloss:0.83303\n",
      "[185]\ttrain-mlogloss:0.77453\ttest-mlogloss:0.83250\n",
      "[186]\ttrain-mlogloss:0.77402\ttest-mlogloss:0.83215\n",
      "[187]\ttrain-mlogloss:0.77355\ttest-mlogloss:0.83180\n",
      "[188]\ttrain-mlogloss:0.77304\ttest-mlogloss:0.83154\n",
      "[189]\ttrain-mlogloss:0.77255\ttest-mlogloss:0.83132\n",
      "[190]\ttrain-mlogloss:0.77205\ttest-mlogloss:0.83117\n",
      "[191]\ttrain-mlogloss:0.77153\ttest-mlogloss:0.83093\n",
      "[192]\ttrain-mlogloss:0.77111\ttest-mlogloss:0.83066\n",
      "[193]\ttrain-mlogloss:0.77061\ttest-mlogloss:0.83030\n",
      "[194]\ttrain-mlogloss:0.77011\ttest-mlogloss:0.83018\n",
      "[195]\ttrain-mlogloss:0.76960\ttest-mlogloss:0.82966\n",
      "[196]\ttrain-mlogloss:0.76914\ttest-mlogloss:0.82923\n",
      "[197]\ttrain-mlogloss:0.76865\ttest-mlogloss:0.82886\n",
      "[198]\ttrain-mlogloss:0.76822\ttest-mlogloss:0.82878\n",
      "[199]\ttrain-mlogloss:0.76769\ttest-mlogloss:0.82841\n",
      "[200]\ttrain-mlogloss:0.76725\ttest-mlogloss:0.82812\n",
      "[201]\ttrain-mlogloss:0.76679\ttest-mlogloss:0.82781\n",
      "[202]\ttrain-mlogloss:0.76635\ttest-mlogloss:0.82760\n",
      "[203]\ttrain-mlogloss:0.76592\ttest-mlogloss:0.82749\n",
      "[204]\ttrain-mlogloss:0.76546\ttest-mlogloss:0.82753\n",
      "[205]\ttrain-mlogloss:0.76503\ttest-mlogloss:0.82748\n",
      "[206]\ttrain-mlogloss:0.76457\ttest-mlogloss:0.82730\n",
      "[207]\ttrain-mlogloss:0.76410\ttest-mlogloss:0.82698\n",
      "[208]\ttrain-mlogloss:0.76367\ttest-mlogloss:0.82633\n",
      "[209]\ttrain-mlogloss:0.76324\ttest-mlogloss:0.82622\n",
      "[210]\ttrain-mlogloss:0.76279\ttest-mlogloss:0.82600\n",
      "[211]\ttrain-mlogloss:0.76239\ttest-mlogloss:0.82590\n",
      "[212]\ttrain-mlogloss:0.76196\ttest-mlogloss:0.82541\n",
      "[213]\ttrain-mlogloss:0.76155\ttest-mlogloss:0.82512\n",
      "[214]\ttrain-mlogloss:0.76107\ttest-mlogloss:0.82493\n",
      "[215]\ttrain-mlogloss:0.76058\ttest-mlogloss:0.82463\n",
      "[216]\ttrain-mlogloss:0.76013\ttest-mlogloss:0.82431\n",
      "[217]\ttrain-mlogloss:0.75970\ttest-mlogloss:0.82408\n",
      "[218]\ttrain-mlogloss:0.75929\ttest-mlogloss:0.82394\n",
      "[219]\ttrain-mlogloss:0.75886\ttest-mlogloss:0.82380\n",
      "[220]\ttrain-mlogloss:0.75843\ttest-mlogloss:0.82345\n",
      "[221]\ttrain-mlogloss:0.75795\ttest-mlogloss:0.82325\n",
      "[222]\ttrain-mlogloss:0.75747\ttest-mlogloss:0.82296\n",
      "[223]\ttrain-mlogloss:0.75707\ttest-mlogloss:0.82256\n",
      "[224]\ttrain-mlogloss:0.75664\ttest-mlogloss:0.82207\n",
      "[225]\ttrain-mlogloss:0.75621\ttest-mlogloss:0.82194\n",
      "[226]\ttrain-mlogloss:0.75576\ttest-mlogloss:0.82161\n",
      "[227]\ttrain-mlogloss:0.75536\ttest-mlogloss:0.82142\n",
      "[228]\ttrain-mlogloss:0.75490\ttest-mlogloss:0.82130\n",
      "[229]\ttrain-mlogloss:0.75448\ttest-mlogloss:0.82121\n",
      "[230]\ttrain-mlogloss:0.75404\ttest-mlogloss:0.82094\n",
      "[231]\ttrain-mlogloss:0.75362\ttest-mlogloss:0.82089\n",
      "[232]\ttrain-mlogloss:0.75321\ttest-mlogloss:0.82063\n",
      "[233]\ttrain-mlogloss:0.75284\ttest-mlogloss:0.82026\n",
      "[234]\ttrain-mlogloss:0.75242\ttest-mlogloss:0.82013\n",
      "[235]\ttrain-mlogloss:0.75202\ttest-mlogloss:0.81991\n",
      "[236]\ttrain-mlogloss:0.75162\ttest-mlogloss:0.81959\n",
      "[237]\ttrain-mlogloss:0.75122\ttest-mlogloss:0.81946\n",
      "[238]\ttrain-mlogloss:0.75075\ttest-mlogloss:0.81922\n",
      "[239]\ttrain-mlogloss:0.75037\ttest-mlogloss:0.81895\n",
      "[240]\ttrain-mlogloss:0.74994\ttest-mlogloss:0.81874\n",
      "[241]\ttrain-mlogloss:0.74949\ttest-mlogloss:0.81856\n",
      "[242]\ttrain-mlogloss:0.74904\ttest-mlogloss:0.81852\n",
      "[243]\ttrain-mlogloss:0.74859\ttest-mlogloss:0.81831\n",
      "[244]\ttrain-mlogloss:0.74815\ttest-mlogloss:0.81786\n",
      "[245]\ttrain-mlogloss:0.74774\ttest-mlogloss:0.81756\n",
      "[246]\ttrain-mlogloss:0.74728\ttest-mlogloss:0.81739\n",
      "[247]\ttrain-mlogloss:0.74692\ttest-mlogloss:0.81710\n",
      "[248]\ttrain-mlogloss:0.74650\ttest-mlogloss:0.81682\n",
      "[249]\ttrain-mlogloss:0.74605\ttest-mlogloss:0.81656\n",
      "[250]\ttrain-mlogloss:0.74567\ttest-mlogloss:0.81646\n",
      "[251]\ttrain-mlogloss:0.74520\ttest-mlogloss:0.81613\n",
      "[252]\ttrain-mlogloss:0.74475\ttest-mlogloss:0.81615\n",
      "[253]\ttrain-mlogloss:0.74439\ttest-mlogloss:0.81608\n",
      "[254]\ttrain-mlogloss:0.74403\ttest-mlogloss:0.81575\n",
      "[255]\ttrain-mlogloss:0.74361\ttest-mlogloss:0.81565\n",
      "[256]\ttrain-mlogloss:0.74324\ttest-mlogloss:0.81566\n",
      "[257]\ttrain-mlogloss:0.74283\ttest-mlogloss:0.81565\n",
      "[258]\ttrain-mlogloss:0.74247\ttest-mlogloss:0.81529\n",
      "[259]\ttrain-mlogloss:0.74217\ttest-mlogloss:0.81510\n",
      "[260]\ttrain-mlogloss:0.74184\ttest-mlogloss:0.81486\n",
      "[261]\ttrain-mlogloss:0.74147\ttest-mlogloss:0.81476\n",
      "[262]\ttrain-mlogloss:0.74106\ttest-mlogloss:0.81456\n",
      "[263]\ttrain-mlogloss:0.74068\ttest-mlogloss:0.81443\n",
      "[264]\ttrain-mlogloss:0.74031\ttest-mlogloss:0.81413\n",
      "[265]\ttrain-mlogloss:0.73995\ttest-mlogloss:0.81397\n",
      "[266]\ttrain-mlogloss:0.73958\ttest-mlogloss:0.81366\n",
      "[267]\ttrain-mlogloss:0.73923\ttest-mlogloss:0.81342\n",
      "[268]\ttrain-mlogloss:0.73886\ttest-mlogloss:0.81319\n",
      "[269]\ttrain-mlogloss:0.73854\ttest-mlogloss:0.81307\n",
      "[270]\ttrain-mlogloss:0.73817\ttest-mlogloss:0.81307\n",
      "[271]\ttrain-mlogloss:0.73783\ttest-mlogloss:0.81271\n",
      "[272]\ttrain-mlogloss:0.73744\ttest-mlogloss:0.81253\n",
      "[273]\ttrain-mlogloss:0.73704\ttest-mlogloss:0.81234\n",
      "[274]\ttrain-mlogloss:0.73668\ttest-mlogloss:0.81211\n",
      "[275]\ttrain-mlogloss:0.73631\ttest-mlogloss:0.81167\n",
      "[276]\ttrain-mlogloss:0.73592\ttest-mlogloss:0.81148\n",
      "[277]\ttrain-mlogloss:0.73553\ttest-mlogloss:0.81120\n",
      "[278]\ttrain-mlogloss:0.73519\ttest-mlogloss:0.81107\n",
      "[279]\ttrain-mlogloss:0.73484\ttest-mlogloss:0.81109\n",
      "[280]\ttrain-mlogloss:0.73449\ttest-mlogloss:0.81077\n",
      "[281]\ttrain-mlogloss:0.73413\ttest-mlogloss:0.81061\n",
      "[282]\ttrain-mlogloss:0.73381\ttest-mlogloss:0.81040\n",
      "[283]\ttrain-mlogloss:0.73338\ttest-mlogloss:0.81025\n",
      "[284]\ttrain-mlogloss:0.73299\ttest-mlogloss:0.81002\n",
      "[285]\ttrain-mlogloss:0.73265\ttest-mlogloss:0.81006\n",
      "[286]\ttrain-mlogloss:0.73228\ttest-mlogloss:0.80961\n",
      "[287]\ttrain-mlogloss:0.73196\ttest-mlogloss:0.80957\n",
      "[288]\ttrain-mlogloss:0.73155\ttest-mlogloss:0.80939\n",
      "[289]\ttrain-mlogloss:0.73115\ttest-mlogloss:0.80937\n",
      "[290]\ttrain-mlogloss:0.73072\ttest-mlogloss:0.80928\n",
      "[291]\ttrain-mlogloss:0.73037\ttest-mlogloss:0.80919\n",
      "[292]\ttrain-mlogloss:0.72996\ttest-mlogloss:0.80884\n",
      "[293]\ttrain-mlogloss:0.72961\ttest-mlogloss:0.80871\n",
      "[294]\ttrain-mlogloss:0.72929\ttest-mlogloss:0.80860\n",
      "[295]\ttrain-mlogloss:0.72896\ttest-mlogloss:0.80847\n",
      "[296]\ttrain-mlogloss:0.72861\ttest-mlogloss:0.80836\n",
      "[297]\ttrain-mlogloss:0.72827\ttest-mlogloss:0.80822\n",
      "[298]\ttrain-mlogloss:0.72789\ttest-mlogloss:0.80826\n",
      "[299]\ttrain-mlogloss:0.72760\ttest-mlogloss:0.80821\n",
      "[300]\ttrain-mlogloss:0.72721\ttest-mlogloss:0.80814\n",
      "[301]\ttrain-mlogloss:0.72686\ttest-mlogloss:0.80793\n",
      "[302]\ttrain-mlogloss:0.72653\ttest-mlogloss:0.80767\n",
      "[303]\ttrain-mlogloss:0.72617\ttest-mlogloss:0.80765\n",
      "[304]\ttrain-mlogloss:0.72577\ttest-mlogloss:0.80754\n",
      "[305]\ttrain-mlogloss:0.72544\ttest-mlogloss:0.80737\n",
      "[306]\ttrain-mlogloss:0.72506\ttest-mlogloss:0.80716\n",
      "[307]\ttrain-mlogloss:0.72473\ttest-mlogloss:0.80691\n",
      "[308]\ttrain-mlogloss:0.72442\ttest-mlogloss:0.80687\n",
      "[309]\ttrain-mlogloss:0.72411\ttest-mlogloss:0.80673\n",
      "[310]\ttrain-mlogloss:0.72378\ttest-mlogloss:0.80670\n",
      "[311]\ttrain-mlogloss:0.72345\ttest-mlogloss:0.80659\n",
      "[312]\ttrain-mlogloss:0.72316\ttest-mlogloss:0.80650\n",
      "[313]\ttrain-mlogloss:0.72276\ttest-mlogloss:0.80635\n",
      "[314]\ttrain-mlogloss:0.72242\ttest-mlogloss:0.80617\n",
      "[315]\ttrain-mlogloss:0.72206\ttest-mlogloss:0.80600\n",
      "[316]\ttrain-mlogloss:0.72177\ttest-mlogloss:0.80583\n"
     ]
    },
    {
     "name": "stdout",
     "output_type": "stream",
     "text": [
      "[317]\ttrain-mlogloss:0.72142\ttest-mlogloss:0.80565\n",
      "[318]\ttrain-mlogloss:0.72112\ttest-mlogloss:0.80533\n",
      "[319]\ttrain-mlogloss:0.72080\ttest-mlogloss:0.80518\n",
      "[320]\ttrain-mlogloss:0.72048\ttest-mlogloss:0.80496\n",
      "[321]\ttrain-mlogloss:0.72013\ttest-mlogloss:0.80481\n",
      "[322]\ttrain-mlogloss:0.71983\ttest-mlogloss:0.80464\n",
      "[323]\ttrain-mlogloss:0.71951\ttest-mlogloss:0.80447\n",
      "[324]\ttrain-mlogloss:0.71921\ttest-mlogloss:0.80432\n",
      "[325]\ttrain-mlogloss:0.71891\ttest-mlogloss:0.80438\n",
      "[326]\ttrain-mlogloss:0.71857\ttest-mlogloss:0.80420\n",
      "[327]\ttrain-mlogloss:0.71820\ttest-mlogloss:0.80420\n",
      "[328]\ttrain-mlogloss:0.71788\ttest-mlogloss:0.80421\n",
      "[329]\ttrain-mlogloss:0.71758\ttest-mlogloss:0.80402\n",
      "[330]\ttrain-mlogloss:0.71730\ttest-mlogloss:0.80382\n",
      "[331]\ttrain-mlogloss:0.71695\ttest-mlogloss:0.80358\n",
      "[332]\ttrain-mlogloss:0.71662\ttest-mlogloss:0.80352\n",
      "[333]\ttrain-mlogloss:0.71629\ttest-mlogloss:0.80333\n",
      "[334]\ttrain-mlogloss:0.71591\ttest-mlogloss:0.80324\n",
      "[335]\ttrain-mlogloss:0.71557\ttest-mlogloss:0.80340\n",
      "[336]\ttrain-mlogloss:0.71519\ttest-mlogloss:0.80317\n",
      "[337]\ttrain-mlogloss:0.71484\ttest-mlogloss:0.80289\n",
      "[338]\ttrain-mlogloss:0.71450\ttest-mlogloss:0.80268\n",
      "[339]\ttrain-mlogloss:0.71421\ttest-mlogloss:0.80249\n",
      "[340]\ttrain-mlogloss:0.71393\ttest-mlogloss:0.80232\n",
      "[341]\ttrain-mlogloss:0.71362\ttest-mlogloss:0.80222\n",
      "[342]\ttrain-mlogloss:0.71332\ttest-mlogloss:0.80208\n",
      "[343]\ttrain-mlogloss:0.71304\ttest-mlogloss:0.80210\n",
      "[344]\ttrain-mlogloss:0.71275\ttest-mlogloss:0.80210\n",
      "[345]\ttrain-mlogloss:0.71241\ttest-mlogloss:0.80213\n",
      "[346]\ttrain-mlogloss:0.71211\ttest-mlogloss:0.80202\n",
      "[347]\ttrain-mlogloss:0.71176\ttest-mlogloss:0.80190\n",
      "[348]\ttrain-mlogloss:0.71148\ttest-mlogloss:0.80183\n",
      "[349]\ttrain-mlogloss:0.71117\ttest-mlogloss:0.80172\n",
      "[350]\ttrain-mlogloss:0.71085\ttest-mlogloss:0.80167\n",
      "[351]\ttrain-mlogloss:0.71058\ttest-mlogloss:0.80153\n",
      "[352]\ttrain-mlogloss:0.71028\ttest-mlogloss:0.80129\n",
      "[353]\ttrain-mlogloss:0.70997\ttest-mlogloss:0.80102\n",
      "[354]\ttrain-mlogloss:0.70969\ttest-mlogloss:0.80102\n",
      "[355]\ttrain-mlogloss:0.70945\ttest-mlogloss:0.80096\n",
      "[356]\ttrain-mlogloss:0.70910\ttest-mlogloss:0.80080\n",
      "[357]\ttrain-mlogloss:0.70878\ttest-mlogloss:0.80066\n",
      "[358]\ttrain-mlogloss:0.70846\ttest-mlogloss:0.80055\n",
      "[359]\ttrain-mlogloss:0.70816\ttest-mlogloss:0.80032\n",
      "[360]\ttrain-mlogloss:0.70786\ttest-mlogloss:0.80005\n",
      "[361]\ttrain-mlogloss:0.70750\ttest-mlogloss:0.79995\n",
      "[362]\ttrain-mlogloss:0.70717\ttest-mlogloss:0.80003\n",
      "[363]\ttrain-mlogloss:0.70684\ttest-mlogloss:0.79998\n",
      "[364]\ttrain-mlogloss:0.70654\ttest-mlogloss:0.79985\n",
      "[365]\ttrain-mlogloss:0.70624\ttest-mlogloss:0.79960\n",
      "[366]\ttrain-mlogloss:0.70596\ttest-mlogloss:0.79939\n",
      "[367]\ttrain-mlogloss:0.70569\ttest-mlogloss:0.79935\n",
      "[368]\ttrain-mlogloss:0.70539\ttest-mlogloss:0.79906\n",
      "[369]\ttrain-mlogloss:0.70511\ttest-mlogloss:0.79882\n",
      "[370]\ttrain-mlogloss:0.70479\ttest-mlogloss:0.79873\n",
      "[371]\ttrain-mlogloss:0.70451\ttest-mlogloss:0.79844\n",
      "[372]\ttrain-mlogloss:0.70423\ttest-mlogloss:0.79824\n",
      "[373]\ttrain-mlogloss:0.70394\ttest-mlogloss:0.79814\n",
      "[374]\ttrain-mlogloss:0.70363\ttest-mlogloss:0.79812\n",
      "[375]\ttrain-mlogloss:0.70328\ttest-mlogloss:0.79783\n",
      "[376]\ttrain-mlogloss:0.70300\ttest-mlogloss:0.79780\n",
      "[377]\ttrain-mlogloss:0.70268\ttest-mlogloss:0.79770\n",
      "[378]\ttrain-mlogloss:0.70236\ttest-mlogloss:0.79731\n",
      "[379]\ttrain-mlogloss:0.70209\ttest-mlogloss:0.79720\n",
      "[380]\ttrain-mlogloss:0.70173\ttest-mlogloss:0.79703\n",
      "[381]\ttrain-mlogloss:0.70145\ttest-mlogloss:0.79692\n",
      "[382]\ttrain-mlogloss:0.70116\ttest-mlogloss:0.79685\n",
      "[383]\ttrain-mlogloss:0.70085\ttest-mlogloss:0.79676\n",
      "[384]\ttrain-mlogloss:0.70056\ttest-mlogloss:0.79669\n",
      "[385]\ttrain-mlogloss:0.70028\ttest-mlogloss:0.79653\n",
      "[386]\ttrain-mlogloss:0.70003\ttest-mlogloss:0.79658\n",
      "[387]\ttrain-mlogloss:0.69969\ttest-mlogloss:0.79654\n",
      "[388]\ttrain-mlogloss:0.69942\ttest-mlogloss:0.79643\n",
      "[389]\ttrain-mlogloss:0.69912\ttest-mlogloss:0.79634\n",
      "[390]\ttrain-mlogloss:0.69883\ttest-mlogloss:0.79608\n",
      "[391]\ttrain-mlogloss:0.69857\ttest-mlogloss:0.79613\n",
      "[392]\ttrain-mlogloss:0.69830\ttest-mlogloss:0.79612\n",
      "[393]\ttrain-mlogloss:0.69805\ttest-mlogloss:0.79604\n",
      "[394]\ttrain-mlogloss:0.69780\ttest-mlogloss:0.79612\n",
      "[395]\ttrain-mlogloss:0.69750\ttest-mlogloss:0.79587\n",
      "[396]\ttrain-mlogloss:0.69723\ttest-mlogloss:0.79575\n",
      "[397]\ttrain-mlogloss:0.69696\ttest-mlogloss:0.79553\n",
      "[398]\ttrain-mlogloss:0.69670\ttest-mlogloss:0.79539\n",
      "[399]\ttrain-mlogloss:0.69641\ttest-mlogloss:0.79533\n",
      "[400]\ttrain-mlogloss:0.69614\ttest-mlogloss:0.79531\n",
      "[401]\ttrain-mlogloss:0.69585\ttest-mlogloss:0.79524\n",
      "[402]\ttrain-mlogloss:0.69558\ttest-mlogloss:0.79514\n",
      "[403]\ttrain-mlogloss:0.69529\ttest-mlogloss:0.79499\n",
      "[404]\ttrain-mlogloss:0.69503\ttest-mlogloss:0.79490\n",
      "[405]\ttrain-mlogloss:0.69478\ttest-mlogloss:0.79507\n",
      "[406]\ttrain-mlogloss:0.69454\ttest-mlogloss:0.79497\n",
      "[407]\ttrain-mlogloss:0.69427\ttest-mlogloss:0.79479\n",
      "[408]\ttrain-mlogloss:0.69405\ttest-mlogloss:0.79473\n",
      "[409]\ttrain-mlogloss:0.69381\ttest-mlogloss:0.79449\n",
      "[410]\ttrain-mlogloss:0.69355\ttest-mlogloss:0.79448\n",
      "[411]\ttrain-mlogloss:0.69324\ttest-mlogloss:0.79423\n",
      "[412]\ttrain-mlogloss:0.69296\ttest-mlogloss:0.79422\n",
      "[413]\ttrain-mlogloss:0.69268\ttest-mlogloss:0.79403\n",
      "[414]\ttrain-mlogloss:0.69244\ttest-mlogloss:0.79408\n",
      "[415]\ttrain-mlogloss:0.69218\ttest-mlogloss:0.79403\n",
      "[416]\ttrain-mlogloss:0.69192\ttest-mlogloss:0.79388\n",
      "[417]\ttrain-mlogloss:0.69163\ttest-mlogloss:0.79352\n",
      "[418]\ttrain-mlogloss:0.69140\ttest-mlogloss:0.79339\n",
      "[419]\ttrain-mlogloss:0.69111\ttest-mlogloss:0.79332\n",
      "[420]\ttrain-mlogloss:0.69085\ttest-mlogloss:0.79312\n",
      "[421]\ttrain-mlogloss:0.69063\ttest-mlogloss:0.79303\n",
      "[422]\ttrain-mlogloss:0.69037\ttest-mlogloss:0.79285\n",
      "[423]\ttrain-mlogloss:0.69008\ttest-mlogloss:0.79274\n",
      "[424]\ttrain-mlogloss:0.68982\ttest-mlogloss:0.79252\n",
      "[425]\ttrain-mlogloss:0.68957\ttest-mlogloss:0.79232\n",
      "[426]\ttrain-mlogloss:0.68930\ttest-mlogloss:0.79216\n",
      "[427]\ttrain-mlogloss:0.68906\ttest-mlogloss:0.79222\n",
      "[428]\ttrain-mlogloss:0.68880\ttest-mlogloss:0.79210\n",
      "[429]\ttrain-mlogloss:0.68849\ttest-mlogloss:0.79197\n",
      "[430]\ttrain-mlogloss:0.68818\ttest-mlogloss:0.79175\n",
      "[431]\ttrain-mlogloss:0.68794\ttest-mlogloss:0.79168\n",
      "[432]\ttrain-mlogloss:0.68766\ttest-mlogloss:0.79160\n",
      "[433]\ttrain-mlogloss:0.68743\ttest-mlogloss:0.79137\n",
      "[434]\ttrain-mlogloss:0.68717\ttest-mlogloss:0.79130\n",
      "[435]\ttrain-mlogloss:0.68688\ttest-mlogloss:0.79130\n",
      "[436]\ttrain-mlogloss:0.68666\ttest-mlogloss:0.79112\n",
      "[437]\ttrain-mlogloss:0.68637\ttest-mlogloss:0.79121\n",
      "[438]\ttrain-mlogloss:0.68614\ttest-mlogloss:0.79102\n",
      "[439]\ttrain-mlogloss:0.68590\ttest-mlogloss:0.79074\n",
      "[440]\ttrain-mlogloss:0.68568\ttest-mlogloss:0.79067\n",
      "[441]\ttrain-mlogloss:0.68545\ttest-mlogloss:0.79077\n",
      "[442]\ttrain-mlogloss:0.68517\ttest-mlogloss:0.79059\n",
      "[443]\ttrain-mlogloss:0.68488\ttest-mlogloss:0.79056\n",
      "[444]\ttrain-mlogloss:0.68465\ttest-mlogloss:0.79043\n",
      "[445]\ttrain-mlogloss:0.68443\ttest-mlogloss:0.79019\n",
      "[446]\ttrain-mlogloss:0.68409\ttest-mlogloss:0.79001\n",
      "[447]\ttrain-mlogloss:0.68380\ttest-mlogloss:0.78988\n",
      "[448]\ttrain-mlogloss:0.68356\ttest-mlogloss:0.78987\n",
      "[449]\ttrain-mlogloss:0.68334\ttest-mlogloss:0.78984\n",
      "[450]\ttrain-mlogloss:0.68314\ttest-mlogloss:0.78957\n",
      "[451]\ttrain-mlogloss:0.68290\ttest-mlogloss:0.78948\n",
      "[452]\ttrain-mlogloss:0.68266\ttest-mlogloss:0.78931\n",
      "[453]\ttrain-mlogloss:0.68242\ttest-mlogloss:0.78919\n",
      "[454]\ttrain-mlogloss:0.68218\ttest-mlogloss:0.78913\n",
      "[455]\ttrain-mlogloss:0.68197\ttest-mlogloss:0.78908\n",
      "[456]\ttrain-mlogloss:0.68176\ttest-mlogloss:0.78911\n",
      "[457]\ttrain-mlogloss:0.68154\ttest-mlogloss:0.78898\n",
      "[458]\ttrain-mlogloss:0.68125\ttest-mlogloss:0.78878\n",
      "[459]\ttrain-mlogloss:0.68096\ttest-mlogloss:0.78851\n",
      "[460]\ttrain-mlogloss:0.68075\ttest-mlogloss:0.78834\n",
      "[461]\ttrain-mlogloss:0.68051\ttest-mlogloss:0.78822\n",
      "[462]\ttrain-mlogloss:0.68025\ttest-mlogloss:0.78808\n",
      "[463]\ttrain-mlogloss:0.68001\ttest-mlogloss:0.78800\n",
      "[464]\ttrain-mlogloss:0.67973\ttest-mlogloss:0.78778\n",
      "[465]\ttrain-mlogloss:0.67948\ttest-mlogloss:0.78762\n",
      "[466]\ttrain-mlogloss:0.67920\ttest-mlogloss:0.78758\n",
      "[467]\ttrain-mlogloss:0.67898\ttest-mlogloss:0.78753\n",
      "[468]\ttrain-mlogloss:0.67870\ttest-mlogloss:0.78736\n",
      "[469]\ttrain-mlogloss:0.67844\ttest-mlogloss:0.78717\n",
      "[470]\ttrain-mlogloss:0.67822\ttest-mlogloss:0.78723\n",
      "[471]\ttrain-mlogloss:0.67790\ttest-mlogloss:0.78710\n",
      "[472]\ttrain-mlogloss:0.67761\ttest-mlogloss:0.78702\n",
      "[473]\ttrain-mlogloss:0.67737\ttest-mlogloss:0.78676\n",
      "[474]\ttrain-mlogloss:0.67709\ttest-mlogloss:0.78659\n",
      "[475]\ttrain-mlogloss:0.67683\ttest-mlogloss:0.78637\n",
      "[476]\ttrain-mlogloss:0.67663\ttest-mlogloss:0.78630\n",
      "[477]\ttrain-mlogloss:0.67642\ttest-mlogloss:0.78617\n"
     ]
    },
    {
     "name": "stdout",
     "output_type": "stream",
     "text": [
      "[478]\ttrain-mlogloss:0.67615\ttest-mlogloss:0.78619\n",
      "[479]\ttrain-mlogloss:0.67590\ttest-mlogloss:0.78619\n",
      "[480]\ttrain-mlogloss:0.67558\ttest-mlogloss:0.78614\n",
      "[481]\ttrain-mlogloss:0.67528\ttest-mlogloss:0.78587\n",
      "[482]\ttrain-mlogloss:0.67505\ttest-mlogloss:0.78575\n",
      "[483]\ttrain-mlogloss:0.67479\ttest-mlogloss:0.78587\n",
      "[484]\ttrain-mlogloss:0.67457\ttest-mlogloss:0.78578\n",
      "[485]\ttrain-mlogloss:0.67433\ttest-mlogloss:0.78580\n",
      "[486]\ttrain-mlogloss:0.67409\ttest-mlogloss:0.78565\n",
      "[487]\ttrain-mlogloss:0.67379\ttest-mlogloss:0.78568\n",
      "[488]\ttrain-mlogloss:0.67353\ttest-mlogloss:0.78554\n",
      "[489]\ttrain-mlogloss:0.67329\ttest-mlogloss:0.78556\n",
      "[490]\ttrain-mlogloss:0.67310\ttest-mlogloss:0.78546\n",
      "[491]\ttrain-mlogloss:0.67289\ttest-mlogloss:0.78548\n",
      "[492]\ttrain-mlogloss:0.67266\ttest-mlogloss:0.78542\n",
      "[493]\ttrain-mlogloss:0.67242\ttest-mlogloss:0.78546\n",
      "[494]\ttrain-mlogloss:0.67215\ttest-mlogloss:0.78551\n",
      "[495]\ttrain-mlogloss:0.67193\ttest-mlogloss:0.78541\n",
      "[496]\ttrain-mlogloss:0.67170\ttest-mlogloss:0.78526\n",
      "[497]\ttrain-mlogloss:0.67141\ttest-mlogloss:0.78526\n",
      "[498]\ttrain-mlogloss:0.67119\ttest-mlogloss:0.78499\n",
      "[499]\ttrain-mlogloss:0.67098\ttest-mlogloss:0.78504\n"
     ]
    }
   ],
   "source": [
    "model_xgb = run_xgb(train_transform, y_train, val_transform, y_val)\n",
    "n_rounds = model_xgb.best_ntree_limit"
   ]
  },
  {
   "cell_type": "code",
   "execution_count": 118,
   "metadata": {
    "ExecuteTime": {
     "end_time": "2021-03-07T06:53:58.785269Z",
     "start_time": "2021-03-07T06:53:58.772144Z"
    }
   },
   "outputs": [],
   "source": [
    "target_num_map = {\"negative\":0,\n",
    "                 \"neutral\":1,\n",
    "                 \"positive\":2}"
   ]
  },
  {
   "cell_type": "code",
   "execution_count": 119,
   "metadata": {
    "ExecuteTime": {
     "end_time": "2021-03-07T06:54:01.694806Z",
     "start_time": "2021-03-07T06:54:00.998110Z"
    }
   },
   "outputs": [],
   "source": [
    "###############################################################################################################\n",
    "# Prediction on Validation set to check the threshold:\n",
    "###############################################################################################################\n",
    "prob_validation = model_xgb.predict(xgb.DMatrix(test_transform), ntree_limit = n_rounds)\n",
    "prob_validation = pd.DataFrame(prob_validation, columns = list(target_num_map.keys()))\n",
    "\n",
    "val_pred = prob_validation.idxmax(axis=1)\n",
    "val_pred = np.array(val_pred.apply(lambda x: target_num_map[x]))"
   ]
  },
  {
   "cell_type": "code",
   "execution_count": 127,
   "metadata": {
    "ExecuteTime": {
     "end_time": "2021-03-07T06:55:23.838807Z",
     "start_time": "2021-03-07T06:55:23.809034Z"
    }
   },
   "outputs": [
    {
     "name": "stdout",
     "output_type": "stream",
     "text": [
      "              precision    recall  f1-score   support\n",
      "\n",
      "           0       0.78      0.22      0.35      3972\n",
      "           1       0.56      0.86      0.68      5937\n",
      "           2       0.56      0.47      0.51      2375\n",
      "\n",
      "    accuracy                           0.58     12284\n",
      "   macro avg       0.63      0.52      0.51     12284\n",
      "weighted avg       0.63      0.58      0.54     12284\n",
      "\n"
     ]
    }
   ],
   "source": [
    "print(classification_report([int(i) for i in np.array(y_test)], val_pred))"
   ]
  },
  {
   "cell_type": "code",
   "execution_count": 129,
   "metadata": {
    "ExecuteTime": {
     "end_time": "2021-03-07T06:57:54.944462Z",
     "start_time": "2021-03-07T06:57:54.766714Z"
    }
   },
   "outputs": [],
   "source": [
    "pickle.dump(model_xgb, open(\"twitter_sentiment_xgb_model.pkl\", \"wb\"))"
   ]
  },
  {
   "cell_type": "code",
   "execution_count": 20,
   "metadata": {
    "ExecuteTime": {
     "end_time": "2021-03-25T12:45:39.121882Z",
     "start_time": "2021-03-25T12:45:38.593104Z"
    }
   },
   "outputs": [],
   "source": [
    "## Load TF-IDF Model:\n",
    "tfidf_model = pickle.load(open(\"sentiment_analysis_v2/models/twitter_sentiment_tfidf.pkl\", 'rb'))\n",
    "## Load XGBoost Model:\n",
    "xgboost_model = pickle.load(open(\"sentiment_analysis_v2/models/twitter_sentiment_xgb_model.pkl\", 'rb'))"
   ]
  },
  {
   "cell_type": "code",
   "execution_count": 21,
   "metadata": {
    "ExecuteTime": {
     "end_time": "2021-03-25T12:45:39.137583Z",
     "start_time": "2021-03-25T12:45:39.123880Z"
    }
   },
   "outputs": [],
   "source": [
    "input_object = [\n",
    "              {\n",
    "                \"id\" : \"1\",\n",
    "                \"full_text\" : \"what a pathetic display of service and logistics. Till now I haven’t received the product. There is no update on the app since 22nd Mar’21. I will suggest everyone to delete Flipkart app and try Amazon. @jagograhakjago Act and protect us\"\n",
    "              },\n",
    "              {\n",
    "                \"id\" : \"2\",\n",
    "                \"full_text\" : \"@Flipkart @flipkartsupport @ekartlogistics 24th Mar’21 is almost over & you’ve failed in your commitment twice. So please don’t say about service and commitment at all. Moreover spend some time in training your Ekart logistics employees so that they can serve customers better.\"\n",
    "              },\n",
    "              {\n",
    "                \"id\" : \"3\",\n",
    "                \"full_text\" : \"@Benioff @MichaelDell @Dell Are you guys working on that SPAC together ?\"\n",
    "              }\n",
    "            ]"
   ]
  },
  {
   "cell_type": "code",
   "execution_count": 22,
   "metadata": {
    "ExecuteTime": {
     "end_time": "2021-03-25T12:45:39.588891Z",
     "start_time": "2021-03-25T12:45:39.579380Z"
    }
   },
   "outputs": [],
   "source": [
    "LABELS = ['negative', 'neutral', 'positive']"
   ]
  },
  {
   "cell_type": "code",
   "execution_count": 23,
   "metadata": {
    "ExecuteTime": {
     "end_time": "2021-03-25T12:45:40.154704Z",
     "start_time": "2021-03-25T12:45:40.068153Z"
    }
   },
   "outputs": [],
   "source": [
    "output_object = []\n",
    "## Iterate through each input object\n",
    "for item in input_object:\n",
    "    text = item[\"full_text\"]\n",
    "    text = text_preprocessing(text)\n",
    "    text_transform = tfidf_model.transform([text])\n",
    "    scores = xgboost_model.predict(xgb.DMatrix(text_transform), ntree_limit = xgboost_model.best_ntree_limit)[0]\n",
    "    out_dict = {}\n",
    "    ranking = np.argsort(scores)\n",
    "    ranking = ranking[::-1]\n",
    "    for i in range(scores.shape[0]):\n",
    "        l = LABELS[ranking[i]]\n",
    "        s = scores[ranking[i]]\n",
    "        out_dict[l] = s  \n",
    "#     item[\"sentiment\"] = max(out_dict, key=out_dict.get) \n",
    "#     item[\"sentiment_score\"] =  np.round(out_dict[item[\"sentiment\"]]*100,2)\n",
    "    del item[\"full_text\"]\n",
    "#     output_object.append(item)\n",
    "    output_object.append(out_dict)"
   ]
  },
  {
   "cell_type": "code",
   "execution_count": 24,
   "metadata": {
    "ExecuteTime": {
     "end_time": "2021-03-25T12:45:40.636815Z",
     "start_time": "2021-03-25T12:45:40.611859Z"
    }
   },
   "outputs": [
    {
     "data": {
      "text/plain": [
       "[{'negative': 0.5752041, 'neutral': 0.24172834, 'positive': 0.18306759},\n",
       " {'positive': 0.35401323, 'negative': 0.33458912, 'neutral': 0.3113976},\n",
       " {'neutral': 0.50865966, 'positive': 0.32150555, 'negative': 0.16983478}]"
      ]
     },
     "execution_count": 24,
     "metadata": {},
     "output_type": "execute_result"
    }
   ],
   "source": [
    "output_object"
   ]
  },
  {
   "cell_type": "code",
   "execution_count": null,
   "metadata": {},
   "outputs": [],
   "source": []
  }
 ],
 "metadata": {
  "kernelspec": {
   "display_name": "Python 3",
   "language": "python",
   "name": "python3"
  },
  "language_info": {
   "codemirror_mode": {
    "name": "ipython",
    "version": 3
   },
   "file_extension": ".py",
   "mimetype": "text/x-python",
   "name": "python",
   "nbconvert_exporter": "python",
   "pygments_lexer": "ipython3",
   "version": "3.6.5"
  },
  "toc": {
   "base_numbering": 1,
   "nav_menu": {},
   "number_sections": true,
   "sideBar": true,
   "skip_h1_title": false,
   "title_cell": "Table of Contents",
   "title_sidebar": "Contents",
   "toc_cell": false,
   "toc_position": {},
   "toc_section_display": true,
   "toc_window_display": true
  }
 },
 "nbformat": 4,
 "nbformat_minor": 2
}
