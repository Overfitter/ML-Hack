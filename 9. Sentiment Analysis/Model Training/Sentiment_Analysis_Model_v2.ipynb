{
 "cells": [
  {
   "cell_type": "markdown",
   "metadata": {},
   "source": [
    "### Loading Required Modules"
   ]
  },
  {
   "cell_type": "code",
   "execution_count": 1,
   "metadata": {
    "ExecuteTime": {
     "end_time": "2021-03-25T12:50:52.540813Z",
     "start_time": "2021-03-25T12:50:46.327498Z"
    }
   },
   "outputs": [
    {
     "name": "stderr",
     "output_type": "stream",
     "text": [
      "C:\\Users\\admin\\Anaconda3\\lib\\site-packages\\ipykernel_launcher.py:58: FutureWarning: Passing a negative integer is deprecated in version 1.0 and will not be supported in future version. Instead, use None to not limit the column width.\n"
     ]
    }
   ],
   "source": [
    "import pandas as pd\n",
    "import numpy as np\n",
    "import os\n",
    "import re\n",
    "\n",
    "# =============================================================================\n",
    "# Web Scraping Utilities\n",
    "# =============================================================================\n",
    "\n",
    "import requests\n",
    "from bs4 import BeautifulSoup\n",
    "\n",
    "# =============================================================================\n",
    "# Scikit-Learn Utitlies\n",
    "# =============================================================================\n",
    "from sklearn.model_selection import train_test_split\n",
    "from sklearn.feature_extraction.text import TfidfVectorizer, CountVectorizer\n",
    "from sklearn.metrics.pairwise import linear_kernel\n",
    "from sklearn.metrics import accuracy_score, classification_report, roc_auc_score, roc_curve, auc\n",
    "from sklearn.linear_model import LogisticRegression\n",
    "from sklearn.tree import DecisionTreeClassifier\n",
    "from sklearn.ensemble import RandomForestClassifier, GradientBoostingClassifier\n",
    "\n",
    "\n",
    "# =============================================================================\n",
    "# Exploratory Data Analysis\n",
    "# =============================================================================\n",
    "\n",
    "import sweetviz as sv\n",
    "\n",
    "\n",
    "# =============================================================================\n",
    "# ML Models Utilities\n",
    "# =============================================================================\n",
    "import xgboost as xgb\n",
    "import lightgbm as lgb\n",
    "import pickle\n",
    "\n",
    "\n",
    "\n",
    "\n",
    "# =============================================================================\n",
    "# Tqdm utlities\n",
    "# =============================================================================\n",
    "from tqdm import tqdm_notebook, tnrange\n",
    "from tqdm.auto import tqdm\n",
    "tqdm.pandas(desc='Progress')\n",
    "\n",
    "\n",
    "# =============================================================================\n",
    "# Other Utilities\n",
    "# =============================================================================\n",
    "\n",
    "pd.options.mode.chained_assignment = None\n",
    "pd.options.display.max_columns = 999\n",
    "pd.options.display.max_rows = 999\n",
    "\n",
    "pd.set_option('display.max_colwidth', -1)"
   ]
  },
  {
   "cell_type": "markdown",
   "metadata": {},
   "source": [
    "### Load Datasets"
   ]
  },
  {
   "cell_type": "code",
   "execution_count": 165,
   "metadata": {
    "ExecuteTime": {
     "end_time": "2021-03-25T15:23:49.606480Z",
     "start_time": "2021-03-25T15:23:49.599660Z"
    }
   },
   "outputs": [],
   "source": [
    "## Train\n",
    "train_text = open(r\"./datasets/sentiment/train_text.txt\", \"r\", encoding=\"utf-8\")\n",
    "train_labels = open(r\"./datasets/sentiment/train_labels.txt\", \"r\", encoding=\"utf-8\")\n",
    "\n",
    "## Validation\n",
    "val_text = open(r\"./datasets/sentiment/val_text.txt\", \"r\", encoding=\"utf-8\")\n",
    "val_labels = open(r\"./datasets/sentiment/val_labels.txt\", \"r\", encoding=\"utf-8\")\n",
    "\n",
    "### Test\n",
    "test_text = open(r\"./datasets/sentiment/test_text.txt\", \"r\", encoding=\"utf-8\")\n",
    "test_labels = open(r\"./datasets/sentiment/test_labels.txt\", \"r\", encoding=\"utf-8\")"
   ]
  },
  {
   "cell_type": "code",
   "execution_count": 166,
   "metadata": {
    "ExecuteTime": {
     "end_time": "2021-03-25T15:23:49.890108Z",
     "start_time": "2021-03-25T15:23:49.878591Z"
    }
   },
   "outputs": [],
   "source": [
    "def load_datasets(text_file, label_file):\n",
    "    out_ls = []\n",
    "    for label, text in zip(label_file, text_file):\n",
    "        i = text.strip().split(\"\\n\")\n",
    "        j = label.strip().split(\"\\n\")\n",
    "        out_ls.append([i[0], j[0]])\n",
    "\n",
    "    output_df = pd.DataFrame(out_ls, columns = [\"full_text\", \"sentiment\"])\n",
    "    \n",
    "    return output_df"
   ]
  },
  {
   "cell_type": "code",
   "execution_count": 167,
   "metadata": {
    "ExecuteTime": {
     "end_time": "2021-03-25T15:23:50.359852Z",
     "start_time": "2021-03-25T15:23:50.212935Z"
    },
    "scrolled": true
   },
   "outputs": [
    {
     "name": "stdout",
     "output_type": "stream",
     "text": [
      "There are 45615 Rows and 2 Columns in Train Dataset\n",
      "There are 2000 Rows and 2 Columns in Validation Dataset\n",
      "There are 12284 Rows and 2 Columns in Test Dataset\n"
     ]
    }
   ],
   "source": [
    "train_df = load_datasets(train_text, train_labels)\n",
    "print(\"There are {} Rows and {} Columns in Train Dataset\".format(train_df.shape[0], train_df.shape[1]))\n",
    "val_df = load_datasets(val_text, val_labels)\n",
    "print(\"There are {} Rows and {} Columns in Validation Dataset\".format(val_df.shape[0], val_df.shape[1]))\n",
    "test_df = load_datasets(test_text, test_labels)\n",
    "print(\"There are {} Rows and {} Columns in Test Dataset\".format(test_df.shape[0], test_df.shape[1]))"
   ]
  },
  {
   "cell_type": "code",
   "execution_count": 169,
   "metadata": {
    "ExecuteTime": {
     "end_time": "2021-03-25T15:23:57.948015Z",
     "start_time": "2021-03-25T15:23:57.566516Z"
    }
   },
   "outputs": [],
   "source": [
    "add_train_df = pd.read_excel(\"./datasets/sentiment/sentiment_neg_v1.xlsx\")"
   ]
  },
  {
   "cell_type": "code",
   "execution_count": 170,
   "metadata": {
    "ExecuteTime": {
     "end_time": "2021-03-25T15:23:59.366563Z",
     "start_time": "2021-03-25T15:23:59.347614Z"
    }
   },
   "outputs": [],
   "source": [
    "train_df[\"data_flag\"] = \"TRAIN\"\n",
    "add_train_df[\"data_flag\"] = \"TRAIN\"\n",
    "val_df[\"data_flag\"] = \"VAL\"\n",
    "test_df[\"data_flag\"] = \"TEST\""
   ]
  },
  {
   "cell_type": "code",
   "execution_count": 171,
   "metadata": {
    "ExecuteTime": {
     "end_time": "2021-03-25T15:24:04.722546Z",
     "start_time": "2021-03-25T15:24:04.699572Z"
    }
   },
   "outputs": [],
   "source": [
    "combined_df = pd.concat([train_df, add_train_df, val_df, test_df], axis=0, ignore_index=True)"
   ]
  },
  {
   "cell_type": "code",
   "execution_count": 172,
   "metadata": {
    "ExecuteTime": {
     "end_time": "2021-03-25T15:24:05.488571Z",
     "start_time": "2021-03-25T15:24:05.480313Z"
    }
   },
   "outputs": [
    {
     "data": {
      "text/html": [
       "<div>\n",
       "<style scoped>\n",
       "    .dataframe tbody tr th:only-of-type {\n",
       "        vertical-align: middle;\n",
       "    }\n",
       "\n",
       "    .dataframe tbody tr th {\n",
       "        vertical-align: top;\n",
       "    }\n",
       "\n",
       "    .dataframe thead th {\n",
       "        text-align: right;\n",
       "    }\n",
       "</style>\n",
       "<table border=\"1\" class=\"dataframe\">\n",
       "  <thead>\n",
       "    <tr style=\"text-align: right;\">\n",
       "      <th></th>\n",
       "      <th>full_text</th>\n",
       "      <th>sentiment</th>\n",
       "      <th>data_flag</th>\n",
       "    </tr>\n",
       "  </thead>\n",
       "  <tbody>\n",
       "    <tr>\n",
       "      <th>0</th>\n",
       "      <td>\"QT @user In the original draft of the 7th book, Remus Lupin survived the Battle of Hogwarts. #HappyBirthdayRemusLupin\"</td>\n",
       "      <td>2</td>\n",
       "      <td>TRAIN</td>\n",
       "    </tr>\n",
       "    <tr>\n",
       "      <th>1</th>\n",
       "      <td>\"Ben Smith / Smith (concussion) remains out of the lineup Thursday, Curtis #NHL #SJ\"</td>\n",
       "      <td>1</td>\n",
       "      <td>TRAIN</td>\n",
       "    </tr>\n",
       "    <tr>\n",
       "      <th>2</th>\n",
       "      <td>Sorry bout the stream last night I crashed out but will be on tonight for sure. Then back to Minecraft in pc tomorrow night.</td>\n",
       "      <td>1</td>\n",
       "      <td>TRAIN</td>\n",
       "    </tr>\n",
       "    <tr>\n",
       "      <th>3</th>\n",
       "      <td>Chase Headley's RBI double in the 8th inning off David Price snapped a Yankees streak of 33 consecutive scoreless innings against Blue Jays</td>\n",
       "      <td>1</td>\n",
       "      <td>TRAIN</td>\n",
       "    </tr>\n",
       "    <tr>\n",
       "      <th>4</th>\n",
       "      <td>@user Alciato: Bee will invest 150 million in January, another 200 in the Summer and plans to bring Messi by 2017\"</td>\n",
       "      <td>2</td>\n",
       "      <td>TRAIN</td>\n",
       "    </tr>\n",
       "  </tbody>\n",
       "</table>\n",
       "</div>"
      ],
      "text/plain": [
       "                                                                                                                                     full_text  \\\n",
       "0  \"QT @user In the original draft of the 7th book, Remus Lupin survived the Battle of Hogwarts. #HappyBirthdayRemusLupin\"                       \n",
       "1  \"Ben Smith / Smith (concussion) remains out of the lineup Thursday, Curtis #NHL #SJ\"                                                          \n",
       "2  Sorry bout the stream last night I crashed out but will be on tonight for sure. Then back to Minecraft in pc tomorrow night.                  \n",
       "3  Chase Headley's RBI double in the 8th inning off David Price snapped a Yankees streak of 33 consecutive scoreless innings against Blue Jays   \n",
       "4  @user Alciato: Bee will invest 150 million in January, another 200 in the Summer and plans to bring Messi by 2017\"                            \n",
       "\n",
       "  sentiment data_flag  \n",
       "0  2         TRAIN     \n",
       "1  1         TRAIN     \n",
       "2  1         TRAIN     \n",
       "3  1         TRAIN     \n",
       "4  2         TRAIN     "
      ]
     },
     "execution_count": 172,
     "metadata": {},
     "output_type": "execute_result"
    }
   ],
   "source": [
    "combined_df.head()"
   ]
  },
  {
   "cell_type": "markdown",
   "metadata": {},
   "source": [
    "### Data Preprocessing"
   ]
  },
  {
   "cell_type": "code",
   "execution_count": 173,
   "metadata": {
    "ExecuteTime": {
     "end_time": "2021-03-25T15:24:07.686618Z",
     "start_time": "2021-03-25T15:24:07.676183Z"
    }
   },
   "outputs": [],
   "source": [
    "from nltk.stem.porter import * \n",
    "stemmer = PorterStemmer()\n",
    "import string\n",
    "\n",
    "def text_preprocessing(input_txt):\n",
    "    \n",
    "    input_txt = str(input_txt)\n",
    "    ## Remove specific pattern words\n",
    "    pattern = \"@[\\w]*\"\n",
    "    r = re.findall(pattern, input_txt)\n",
    "    for i in r:\n",
    "        input_txt = re.sub(i, '', input_txt)\n",
    "    \n",
    "    input_txt = re.sub(r'http\\S+|www\\.\\S+', '', input_txt)\n",
    "    \n",
    "    for punct in '?!.,\"$%\\'()*+-/:;<=>@[\\\\]^_`{|}~&' + '“”’':\n",
    "        input_txt = input_txt.replace(punct, ' ')\n",
    "    \n",
    "    input_txt = input_txt.replace(\"[^a-zA-Z#]\", \" \") \n",
    "    \n",
    "    if bool(re.search(r'\\d', input_txt)):\n",
    "        input_txt = re.sub('[0-9]', ' ', input_txt)\n",
    "            \n",
    "    input_txt = input_txt.replace('\"', \"\")\n",
    "    input_txt = input_txt.replace(\"'\", \"\")\n",
    "    input_txt = input_txt.split()\n",
    "    \n",
    "    # Normalise the tokenized words:\n",
    "    input_txt = \" \".join([stemmer.stem(i) for i in input_txt])\n",
    "    \n",
    "    return input_txt.lower().strip()"
   ]
  },
  {
   "cell_type": "code",
   "execution_count": 174,
   "metadata": {
    "ExecuteTime": {
     "end_time": "2021-03-25T15:24:08.171729Z",
     "start_time": "2021-03-25T15:24:08.151301Z"
    }
   },
   "outputs": [],
   "source": [
    "combined_df['sentiment'] = combined_df['sentiment'].astype(int)"
   ]
  },
  {
   "cell_type": "code",
   "execution_count": 175,
   "metadata": {
    "ExecuteTime": {
     "end_time": "2021-03-25T15:24:10.229736Z",
     "start_time": "2021-03-25T15:24:10.197818Z"
    }
   },
   "outputs": [
    {
     "data": {
      "text/plain": [
       "1    0.371723\n",
       "2    0.320944\n",
       "0    0.307333\n",
       "Name: sentiment, dtype: float64"
      ]
     },
     "execution_count": 175,
     "metadata": {},
     "output_type": "execute_result"
    }
   ],
   "source": [
    "combined_df[combined_df['data_flag']==\"TRAIN\"]['sentiment'].value_counts(normalize=True)"
   ]
  },
  {
   "cell_type": "code",
   "execution_count": 176,
   "metadata": {
    "ExecuteTime": {
     "end_time": "2021-03-25T15:24:31.753710Z",
     "start_time": "2021-03-25T15:24:31.729725Z"
    }
   },
   "outputs": [
    {
     "data": {
      "text/plain": [
       "1    20673\n",
       "2    17849\n",
       "0    17092\n",
       "Name: sentiment, dtype: int64"
      ]
     },
     "execution_count": 176,
     "metadata": {},
     "output_type": "execute_result"
    }
   ],
   "source": [
    "combined_df[combined_df['data_flag']==\"TRAIN\"]['sentiment'].value_counts()"
   ]
  },
  {
   "cell_type": "code",
   "execution_count": 177,
   "metadata": {
    "ExecuteTime": {
     "end_time": "2021-03-25T15:24:51.093989Z",
     "start_time": "2021-03-25T15:24:36.412895Z"
    }
   },
   "outputs": [
    {
     "data": {
      "application/vnd.jupyter.widget-view+json": {
       "model_id": "d2200fa708804a058ce4fb090a61345c",
       "version_major": 2,
       "version_minor": 0
      },
      "text/plain": [
       "Progress:   0%|          | 0/69898 [00:00<?, ?it/s]"
      ]
     },
     "metadata": {},
     "output_type": "display_data"
    }
   ],
   "source": [
    "combined_df[\"full_cleaned_text\"] = combined_df[\"full_text\"].progress_apply(lambda i: text_preprocessing(i))"
   ]
  },
  {
   "cell_type": "code",
   "execution_count": 178,
   "metadata": {
    "ExecuteTime": {
     "end_time": "2021-03-25T15:24:52.232072Z",
     "start_time": "2021-03-25T15:24:52.215522Z"
    }
   },
   "outputs": [
    {
     "data": {
      "text/html": [
       "<div>\n",
       "<style scoped>\n",
       "    .dataframe tbody tr th:only-of-type {\n",
       "        vertical-align: middle;\n",
       "    }\n",
       "\n",
       "    .dataframe tbody tr th {\n",
       "        vertical-align: top;\n",
       "    }\n",
       "\n",
       "    .dataframe thead th {\n",
       "        text-align: right;\n",
       "    }\n",
       "</style>\n",
       "<table border=\"1\" class=\"dataframe\">\n",
       "  <thead>\n",
       "    <tr style=\"text-align: right;\">\n",
       "      <th></th>\n",
       "      <th>full_text</th>\n",
       "      <th>sentiment</th>\n",
       "      <th>data_flag</th>\n",
       "      <th>full_cleaned_text</th>\n",
       "    </tr>\n",
       "  </thead>\n",
       "  <tbody>\n",
       "    <tr>\n",
       "      <th>0</th>\n",
       "      <td>\"QT @user In the original draft of the 7th book, Remus Lupin survived the Battle of Hogwarts. #HappyBirthdayRemusLupin\"</td>\n",
       "      <td>2</td>\n",
       "      <td>TRAIN</td>\n",
       "      <td>qt in the origin draft of the th book remu lupin surviv the battl of hogwart #happybirthdayremuslupin</td>\n",
       "    </tr>\n",
       "    <tr>\n",
       "      <th>1</th>\n",
       "      <td>\"Ben Smith / Smith (concussion) remains out of the lineup Thursday, Curtis #NHL #SJ\"</td>\n",
       "      <td>1</td>\n",
       "      <td>TRAIN</td>\n",
       "      <td>ben smith smith concuss remain out of the lineup thursday curti #nhl #sj</td>\n",
       "    </tr>\n",
       "    <tr>\n",
       "      <th>2</th>\n",
       "      <td>Sorry bout the stream last night I crashed out but will be on tonight for sure. Then back to Minecraft in pc tomorrow night.</td>\n",
       "      <td>1</td>\n",
       "      <td>TRAIN</td>\n",
       "      <td>sorri bout the stream last night i crash out but will be on tonight for sure then back to minecraft in pc tomorrow night</td>\n",
       "    </tr>\n",
       "    <tr>\n",
       "      <th>3</th>\n",
       "      <td>Chase Headley's RBI double in the 8th inning off David Price snapped a Yankees streak of 33 consecutive scoreless innings against Blue Jays</td>\n",
       "      <td>1</td>\n",
       "      <td>TRAIN</td>\n",
       "      <td>chase headley s rbi doubl in the th inning off david price snap a yanke streak of consecut scoreless inning against blue jay</td>\n",
       "    </tr>\n",
       "    <tr>\n",
       "      <th>4</th>\n",
       "      <td>@user Alciato: Bee will invest 150 million in January, another 200 in the Summer and plans to bring Messi by 2017\"</td>\n",
       "      <td>2</td>\n",
       "      <td>TRAIN</td>\n",
       "      <td>alciato bee will invest million in januari anoth in the summer and plan to bring messi by</td>\n",
       "    </tr>\n",
       "  </tbody>\n",
       "</table>\n",
       "</div>"
      ],
      "text/plain": [
       "                                                                                                                                     full_text  \\\n",
       "0  \"QT @user In the original draft of the 7th book, Remus Lupin survived the Battle of Hogwarts. #HappyBirthdayRemusLupin\"                       \n",
       "1  \"Ben Smith / Smith (concussion) remains out of the lineup Thursday, Curtis #NHL #SJ\"                                                          \n",
       "2  Sorry bout the stream last night I crashed out but will be on tonight for sure. Then back to Minecraft in pc tomorrow night.                  \n",
       "3  Chase Headley's RBI double in the 8th inning off David Price snapped a Yankees streak of 33 consecutive scoreless innings against Blue Jays   \n",
       "4  @user Alciato: Bee will invest 150 million in January, another 200 in the Summer and plans to bring Messi by 2017\"                            \n",
       "\n",
       "   sentiment data_flag  \\\n",
       "0  2          TRAIN      \n",
       "1  1          TRAIN      \n",
       "2  1          TRAIN      \n",
       "3  1          TRAIN      \n",
       "4  2          TRAIN      \n",
       "\n",
       "                                                                                                              full_cleaned_text  \n",
       "0  qt in the origin draft of the th book remu lupin surviv the battl of hogwart #happybirthdayremuslupin                         \n",
       "1  ben smith smith concuss remain out of the lineup thursday curti #nhl #sj                                                      \n",
       "2  sorri bout the stream last night i crash out but will be on tonight for sure then back to minecraft in pc tomorrow night      \n",
       "3  chase headley s rbi doubl in the th inning off david price snap a yanke streak of consecut scoreless inning against blue jay  \n",
       "4  alciato bee will invest million in januari anoth in the summer and plan to bring messi by                                     "
      ]
     },
     "execution_count": 178,
     "metadata": {},
     "output_type": "execute_result"
    }
   ],
   "source": [
    "combined_df.head()"
   ]
  },
  {
   "cell_type": "code",
   "execution_count": 179,
   "metadata": {
    "ExecuteTime": {
     "end_time": "2021-03-25T15:24:52.563357Z",
     "start_time": "2021-03-25T15:24:52.532405Z"
    }
   },
   "outputs": [
    {
     "data": {
      "text/plain": [
       "1    20673\n",
       "2    17849\n",
       "0    17092\n",
       "Name: sentiment, dtype: int64"
      ]
     },
     "execution_count": 179,
     "metadata": {},
     "output_type": "execute_result"
    }
   ],
   "source": [
    "combined_df[combined_df['data_flag']==\"TRAIN\"]['sentiment'].value_counts()"
   ]
  },
  {
   "cell_type": "markdown",
   "metadata": {},
   "source": [
    "### Modeling Data Preparation"
   ]
  },
  {
   "cell_type": "code",
   "execution_count": 180,
   "metadata": {
    "ExecuteTime": {
     "end_time": "2021-03-25T15:24:54.154018Z",
     "start_time": "2021-03-25T15:24:54.119536Z"
    }
   },
   "outputs": [],
   "source": [
    "model_train_df = combined_df[combined_df[\"data_flag\"]==\"TRAIN\"][[\"sentiment\", \"full_cleaned_text\"]]\n",
    "model_val_df = combined_df[combined_df[\"data_flag\"]==\"VAL\"][[\"sentiment\", \"full_cleaned_text\"]]\n",
    "model_test_df = combined_df[combined_df[\"data_flag\"]==\"TEST\"][[\"sentiment\", \"full_cleaned_text\"]]"
   ]
  },
  {
   "cell_type": "code",
   "execution_count": 181,
   "metadata": {
    "ExecuteTime": {
     "end_time": "2021-03-25T15:24:58.240987Z",
     "start_time": "2021-03-25T15:24:54.334081Z"
    }
   },
   "outputs": [],
   "source": [
    "transform_tfidf = TfidfVectorizer(ngram_range=(1,3), # ngrams - unigram to trigram\n",
    "                                min_df=3, # removing terms that appear too infrequently\n",
    "                                max_df=0.9, # removing terms that appear too frequently\n",
    "                                strip_accents='unicode', # unicode characters\n",
    "                                use_idf=1, # Enable inverse-document-frequency reweighting\n",
    "                                smooth_idf=1, # Smooth idf weights by adding one to document frequencies\n",
    "                                sublinear_tf=1).fit(combined_df[\"full_cleaned_text\"]) # Apply sublinear tf scaling; replace tf with 1 + log(tf)."
   ]
  },
  {
   "cell_type": "code",
   "execution_count": 182,
   "metadata": {
    "ExecuteTime": {
     "end_time": "2021-03-25T15:24:58.764259Z",
     "start_time": "2021-03-25T15:24:58.242852Z"
    }
   },
   "outputs": [],
   "source": [
    "import pickle\n",
    "pickle.dump(transform_tfidf, open(\"twitter_sentiment_tfidf.pkl\", \"wb\"))"
   ]
  },
  {
   "cell_type": "code",
   "execution_count": 183,
   "metadata": {
    "ExecuteTime": {
     "end_time": "2021-03-25T15:25:01.261431Z",
     "start_time": "2021-03-25T15:24:58.767247Z"
    }
   },
   "outputs": [],
   "source": [
    "# =============================================================================\n",
    "# Transforming training & testing & validation data\n",
    "# =============================================================================\n",
    "\n",
    "train_transform = transform_tfidf.transform(model_train_df[\"full_cleaned_text\"]) # Transforming training data\n",
    "val_transform = transform_tfidf.transform(model_val_df[\"full_cleaned_text\"]) # Transforming training data\n",
    "test_transform = transform_tfidf.transform(model_test_df[\"full_cleaned_text\"]) # Transforming validation data"
   ]
  },
  {
   "cell_type": "code",
   "execution_count": 184,
   "metadata": {
    "ExecuteTime": {
     "end_time": "2021-03-25T15:25:01.277411Z",
     "start_time": "2021-03-25T15:25:01.263213Z"
    }
   },
   "outputs": [],
   "source": [
    "y_train = model_train_df[\"sentiment\"]\n",
    "y_val = model_val_df[\"sentiment\"]\n",
    "y_test = model_test_df[\"sentiment\"]"
   ]
  },
  {
   "cell_type": "code",
   "execution_count": 185,
   "metadata": {
    "ExecuteTime": {
     "end_time": "2021-03-25T15:25:01.293367Z",
     "start_time": "2021-03-25T15:25:01.280401Z"
    }
   },
   "outputs": [],
   "source": [
    "def run_xgb(train_X, train_y, test_X, test_y=None, feature_names=None, seed_val=2017, num_rounds=500):\n",
    "    \"\"\"\n",
    "    Function to Run XGBoost Model (Binary Classification)\n",
    "    \"\"\"\n",
    "    param = {}\n",
    "    param['objective'] = 'multi:softprob'\n",
    "    param['eta'] = 0.1\n",
    "    param['max_depth'] = 6\n",
    "    param['silent'] = 1\n",
    "    param['num_class'] = 3\n",
    "    param['eval_metric'] = 'mlogloss'\n",
    "    param['min_child_weight'] = 1\n",
    "    param['subsample'] = 0.7\n",
    "    param['colsample_bytree'] = 0.7\n",
    "    param['seed'] = seed_val\n",
    "    num_rounds = num_rounds\n",
    "\n",
    "    plst = list(param.items())\n",
    "    xgtrain = xgb.DMatrix(train_X, label=train_y)\n",
    "\n",
    "    if test_y is not None:\n",
    "        xgtest = xgb.DMatrix(test_X, label=test_y)\n",
    "        watchlist = [ (xgtrain,'train'), (xgtest, 'test') ]\n",
    "        model = xgb.train(plst, xgtrain, num_rounds, watchlist, early_stopping_rounds=20)\n",
    "    else:\n",
    "        xgtest = xgb.DMatrix(test_X)\n",
    "        model = xgb.train(plst, xgtrain, num_rounds)\n",
    "\n",
    "    return model    "
   ]
  },
  {
   "cell_type": "code",
   "execution_count": 186,
   "metadata": {
    "ExecuteTime": {
     "end_time": "2021-03-25T15:30:25.884866Z",
     "start_time": "2021-03-25T15:25:01.295373Z"
    },
    "scrolled": true
   },
   "outputs": [
    {
     "name": "stdout",
     "output_type": "stream",
     "text": [
      "[20:55:01] WARNING: C:/Users/Administrator/workspace/xgboost-win64_release_1.3.0/src/learner.cc:541: \n",
      "Parameters: { silent } might not be used.\n",
      "\n",
      "  This may not be accurate due to some parameters are only used in language bindings but\n",
      "  passed down to XGBoost core.  Or some parameters are not used but slip through this\n",
      "  verification. Please open an issue if you find above cases.\n",
      "\n",
      "\n",
      "[0]\ttrain-mlogloss:1.08320\ttest-mlogloss:1.08784\n",
      "[1]\ttrain-mlogloss:1.06975\ttest-mlogloss:1.07805\n",
      "[2]\ttrain-mlogloss:1.05692\ttest-mlogloss:1.06933\n",
      "[3]\ttrain-mlogloss:1.04547\ttest-mlogloss:1.06075\n",
      "[4]\ttrain-mlogloss:1.03362\ttest-mlogloss:1.05261\n",
      "[5]\ttrain-mlogloss:1.02245\ttest-mlogloss:1.04528\n",
      "[6]\ttrain-mlogloss:1.01236\ttest-mlogloss:1.03933\n",
      "[7]\ttrain-mlogloss:1.00422\ttest-mlogloss:1.03465\n",
      "[8]\ttrain-mlogloss:0.99703\ttest-mlogloss:1.02933\n",
      "[9]\ttrain-mlogloss:0.98859\ttest-mlogloss:1.02482\n",
      "[10]\ttrain-mlogloss:0.98232\ttest-mlogloss:1.02038\n",
      "[11]\ttrain-mlogloss:0.97516\ttest-mlogloss:1.01607\n",
      "[12]\ttrain-mlogloss:0.96847\ttest-mlogloss:1.01276\n",
      "[13]\ttrain-mlogloss:0.96270\ttest-mlogloss:1.00893\n",
      "[14]\ttrain-mlogloss:0.95777\ttest-mlogloss:1.00501\n",
      "[15]\ttrain-mlogloss:0.95245\ttest-mlogloss:1.00218\n",
      "[16]\ttrain-mlogloss:0.94747\ttest-mlogloss:0.99940\n",
      "[17]\ttrain-mlogloss:0.94278\ttest-mlogloss:0.99650\n",
      "[18]\ttrain-mlogloss:0.93767\ttest-mlogloss:0.99371\n",
      "[19]\ttrain-mlogloss:0.93315\ttest-mlogloss:0.99076\n",
      "[20]\ttrain-mlogloss:0.92941\ttest-mlogloss:0.98818\n",
      "[21]\ttrain-mlogloss:0.92483\ttest-mlogloss:0.98563\n",
      "[22]\ttrain-mlogloss:0.92068\ttest-mlogloss:0.98317\n",
      "[23]\ttrain-mlogloss:0.91715\ttest-mlogloss:0.98062\n",
      "[24]\ttrain-mlogloss:0.91355\ttest-mlogloss:0.97809\n",
      "[25]\ttrain-mlogloss:0.90970\ttest-mlogloss:0.97503\n",
      "[26]\ttrain-mlogloss:0.90655\ttest-mlogloss:0.97252\n",
      "[27]\ttrain-mlogloss:0.90290\ttest-mlogloss:0.97057\n",
      "[28]\ttrain-mlogloss:0.89963\ttest-mlogloss:0.96902\n",
      "[29]\ttrain-mlogloss:0.89675\ttest-mlogloss:0.96731\n",
      "[30]\ttrain-mlogloss:0.89342\ttest-mlogloss:0.96556\n",
      "[31]\ttrain-mlogloss:0.89091\ttest-mlogloss:0.96352\n",
      "[32]\ttrain-mlogloss:0.88784\ttest-mlogloss:0.96224\n",
      "[33]\ttrain-mlogloss:0.88519\ttest-mlogloss:0.96099\n",
      "[34]\ttrain-mlogloss:0.88256\ttest-mlogloss:0.95857\n",
      "[35]\ttrain-mlogloss:0.87972\ttest-mlogloss:0.95724\n",
      "[36]\ttrain-mlogloss:0.87730\ttest-mlogloss:0.95522\n",
      "[37]\ttrain-mlogloss:0.87499\ttest-mlogloss:0.95359\n",
      "[38]\ttrain-mlogloss:0.87239\ttest-mlogloss:0.95257\n",
      "[39]\ttrain-mlogloss:0.86995\ttest-mlogloss:0.95132\n",
      "[40]\ttrain-mlogloss:0.86723\ttest-mlogloss:0.94970\n",
      "[41]\ttrain-mlogloss:0.86518\ttest-mlogloss:0.94802\n",
      "[42]\ttrain-mlogloss:0.86298\ttest-mlogloss:0.94697\n",
      "[43]\ttrain-mlogloss:0.86051\ttest-mlogloss:0.94550\n",
      "[44]\ttrain-mlogloss:0.85847\ttest-mlogloss:0.94345\n",
      "[45]\ttrain-mlogloss:0.85625\ttest-mlogloss:0.94237\n",
      "[46]\ttrain-mlogloss:0.85429\ttest-mlogloss:0.94078\n",
      "[47]\ttrain-mlogloss:0.85228\ttest-mlogloss:0.94000\n",
      "[48]\ttrain-mlogloss:0.85018\ttest-mlogloss:0.93867\n",
      "[49]\ttrain-mlogloss:0.84823\ttest-mlogloss:0.93737\n",
      "[50]\ttrain-mlogloss:0.84631\ttest-mlogloss:0.93603\n",
      "[51]\ttrain-mlogloss:0.84432\ttest-mlogloss:0.93510\n",
      "[52]\ttrain-mlogloss:0.84259\ttest-mlogloss:0.93378\n",
      "[53]\ttrain-mlogloss:0.84054\ttest-mlogloss:0.93278\n",
      "[54]\ttrain-mlogloss:0.83874\ttest-mlogloss:0.93159\n",
      "[55]\ttrain-mlogloss:0.83707\ttest-mlogloss:0.93053\n",
      "[56]\ttrain-mlogloss:0.83532\ttest-mlogloss:0.92956\n",
      "[57]\ttrain-mlogloss:0.83358\ttest-mlogloss:0.92853\n",
      "[58]\ttrain-mlogloss:0.83194\ttest-mlogloss:0.92745\n",
      "[59]\ttrain-mlogloss:0.82998\ttest-mlogloss:0.92634\n",
      "[60]\ttrain-mlogloss:0.82823\ttest-mlogloss:0.92548\n",
      "[61]\ttrain-mlogloss:0.82663\ttest-mlogloss:0.92453\n",
      "[62]\ttrain-mlogloss:0.82496\ttest-mlogloss:0.92349\n",
      "[63]\ttrain-mlogloss:0.82340\ttest-mlogloss:0.92237\n",
      "[64]\ttrain-mlogloss:0.82190\ttest-mlogloss:0.92127\n",
      "[65]\ttrain-mlogloss:0.82031\ttest-mlogloss:0.92035\n",
      "[66]\ttrain-mlogloss:0.81887\ttest-mlogloss:0.91951\n",
      "[67]\ttrain-mlogloss:0.81719\ttest-mlogloss:0.91874\n",
      "[68]\ttrain-mlogloss:0.81572\ttest-mlogloss:0.91773\n",
      "[69]\ttrain-mlogloss:0.81417\ttest-mlogloss:0.91697\n",
      "[70]\ttrain-mlogloss:0.81283\ttest-mlogloss:0.91597\n",
      "[71]\ttrain-mlogloss:0.81129\ttest-mlogloss:0.91503\n",
      "[72]\ttrain-mlogloss:0.80965\ttest-mlogloss:0.91460\n",
      "[73]\ttrain-mlogloss:0.80837\ttest-mlogloss:0.91363\n",
      "[74]\ttrain-mlogloss:0.80690\ttest-mlogloss:0.91283\n",
      "[75]\ttrain-mlogloss:0.80535\ttest-mlogloss:0.91177\n",
      "[76]\ttrain-mlogloss:0.80383\ttest-mlogloss:0.91109\n",
      "[77]\ttrain-mlogloss:0.80253\ttest-mlogloss:0.90985\n",
      "[78]\ttrain-mlogloss:0.80119\ttest-mlogloss:0.90897\n",
      "[79]\ttrain-mlogloss:0.79985\ttest-mlogloss:0.90819\n",
      "[80]\ttrain-mlogloss:0.79858\ttest-mlogloss:0.90742\n",
      "[81]\ttrain-mlogloss:0.79719\ttest-mlogloss:0.90651\n",
      "[82]\ttrain-mlogloss:0.79585\ttest-mlogloss:0.90592\n",
      "[83]\ttrain-mlogloss:0.79458\ttest-mlogloss:0.90507\n",
      "[84]\ttrain-mlogloss:0.79319\ttest-mlogloss:0.90444\n",
      "[85]\ttrain-mlogloss:0.79199\ttest-mlogloss:0.90329\n",
      "[86]\ttrain-mlogloss:0.79084\ttest-mlogloss:0.90278\n",
      "[87]\ttrain-mlogloss:0.78957\ttest-mlogloss:0.90196\n",
      "[88]\ttrain-mlogloss:0.78827\ttest-mlogloss:0.90074\n",
      "[89]\ttrain-mlogloss:0.78702\ttest-mlogloss:0.90010\n",
      "[90]\ttrain-mlogloss:0.78588\ttest-mlogloss:0.89941\n",
      "[91]\ttrain-mlogloss:0.78472\ttest-mlogloss:0.89861\n",
      "[92]\ttrain-mlogloss:0.78358\ttest-mlogloss:0.89784\n",
      "[93]\ttrain-mlogloss:0.78245\ttest-mlogloss:0.89691\n",
      "[94]\ttrain-mlogloss:0.78124\ttest-mlogloss:0.89642\n",
      "[95]\ttrain-mlogloss:0.78015\ttest-mlogloss:0.89565\n",
      "[96]\ttrain-mlogloss:0.77882\ttest-mlogloss:0.89532\n",
      "[97]\ttrain-mlogloss:0.77770\ttest-mlogloss:0.89492\n",
      "[98]\ttrain-mlogloss:0.77663\ttest-mlogloss:0.89434\n",
      "[99]\ttrain-mlogloss:0.77560\ttest-mlogloss:0.89339\n",
      "[100]\ttrain-mlogloss:0.77456\ttest-mlogloss:0.89291\n",
      "[101]\ttrain-mlogloss:0.77339\ttest-mlogloss:0.89226\n",
      "[102]\ttrain-mlogloss:0.77231\ttest-mlogloss:0.89188\n",
      "[103]\ttrain-mlogloss:0.77114\ttest-mlogloss:0.89119\n",
      "[104]\ttrain-mlogloss:0.77005\ttest-mlogloss:0.89068\n",
      "[105]\ttrain-mlogloss:0.76910\ttest-mlogloss:0.88996\n",
      "[106]\ttrain-mlogloss:0.76801\ttest-mlogloss:0.88945\n",
      "[107]\ttrain-mlogloss:0.76694\ttest-mlogloss:0.88882\n",
      "[108]\ttrain-mlogloss:0.76577\ttest-mlogloss:0.88835\n",
      "[109]\ttrain-mlogloss:0.76475\ttest-mlogloss:0.88766\n",
      "[110]\ttrain-mlogloss:0.76380\ttest-mlogloss:0.88701\n",
      "[111]\ttrain-mlogloss:0.76281\ttest-mlogloss:0.88671\n",
      "[112]\ttrain-mlogloss:0.76171\ttest-mlogloss:0.88581\n",
      "[113]\ttrain-mlogloss:0.76039\ttest-mlogloss:0.88492\n",
      "[114]\ttrain-mlogloss:0.75919\ttest-mlogloss:0.88440\n",
      "[115]\ttrain-mlogloss:0.75798\ttest-mlogloss:0.88375\n",
      "[116]\ttrain-mlogloss:0.75701\ttest-mlogloss:0.88312\n",
      "[117]\ttrain-mlogloss:0.75599\ttest-mlogloss:0.88236\n",
      "[118]\ttrain-mlogloss:0.75514\ttest-mlogloss:0.88187\n",
      "[119]\ttrain-mlogloss:0.75423\ttest-mlogloss:0.88108\n",
      "[120]\ttrain-mlogloss:0.75332\ttest-mlogloss:0.88075\n",
      "[121]\ttrain-mlogloss:0.75247\ttest-mlogloss:0.88011\n",
      "[122]\ttrain-mlogloss:0.75164\ttest-mlogloss:0.87966\n",
      "[123]\ttrain-mlogloss:0.75056\ttest-mlogloss:0.87903\n",
      "[124]\ttrain-mlogloss:0.74954\ttest-mlogloss:0.87880\n",
      "[125]\ttrain-mlogloss:0.74867\ttest-mlogloss:0.87832\n",
      "[126]\ttrain-mlogloss:0.74785\ttest-mlogloss:0.87767\n",
      "[127]\ttrain-mlogloss:0.74689\ttest-mlogloss:0.87742\n",
      "[128]\ttrain-mlogloss:0.74597\ttest-mlogloss:0.87700\n",
      "[129]\ttrain-mlogloss:0.74501\ttest-mlogloss:0.87656\n",
      "[130]\ttrain-mlogloss:0.74397\ttest-mlogloss:0.87564\n",
      "[131]\ttrain-mlogloss:0.74312\ttest-mlogloss:0.87519\n",
      "[132]\ttrain-mlogloss:0.74212\ttest-mlogloss:0.87445\n",
      "[133]\ttrain-mlogloss:0.74124\ttest-mlogloss:0.87386\n",
      "[134]\ttrain-mlogloss:0.74040\ttest-mlogloss:0.87356\n",
      "[135]\ttrain-mlogloss:0.73936\ttest-mlogloss:0.87291\n",
      "[136]\ttrain-mlogloss:0.73843\ttest-mlogloss:0.87255\n",
      "[137]\ttrain-mlogloss:0.73769\ttest-mlogloss:0.87181\n",
      "[138]\ttrain-mlogloss:0.73675\ttest-mlogloss:0.87178\n",
      "[139]\ttrain-mlogloss:0.73583\ttest-mlogloss:0.87113\n",
      "[140]\ttrain-mlogloss:0.73495\ttest-mlogloss:0.87073\n",
      "[141]\ttrain-mlogloss:0.73416\ttest-mlogloss:0.87016\n",
      "[142]\ttrain-mlogloss:0.73330\ttest-mlogloss:0.86970\n",
      "[143]\ttrain-mlogloss:0.73238\ttest-mlogloss:0.86907\n",
      "[144]\ttrain-mlogloss:0.73163\ttest-mlogloss:0.86889\n",
      "[145]\ttrain-mlogloss:0.73085\ttest-mlogloss:0.86834\n",
      "[146]\ttrain-mlogloss:0.73003\ttest-mlogloss:0.86772\n",
      "[147]\ttrain-mlogloss:0.72917\ttest-mlogloss:0.86716\n",
      "[148]\ttrain-mlogloss:0.72835\ttest-mlogloss:0.86662\n",
      "[149]\ttrain-mlogloss:0.72759\ttest-mlogloss:0.86603\n",
      "[150]\ttrain-mlogloss:0.72680\ttest-mlogloss:0.86525\n",
      "[151]\ttrain-mlogloss:0.72595\ttest-mlogloss:0.86497\n",
      "[152]\ttrain-mlogloss:0.72513\ttest-mlogloss:0.86469\n",
      "[153]\ttrain-mlogloss:0.72433\ttest-mlogloss:0.86397\n",
      "[154]\ttrain-mlogloss:0.72342\ttest-mlogloss:0.86362\n",
      "[155]\ttrain-mlogloss:0.72266\ttest-mlogloss:0.86349\n"
     ]
    },
    {
     "name": "stdout",
     "output_type": "stream",
     "text": [
      "[156]\ttrain-mlogloss:0.72172\ttest-mlogloss:0.86332\n",
      "[157]\ttrain-mlogloss:0.72099\ttest-mlogloss:0.86253\n",
      "[158]\ttrain-mlogloss:0.72022\ttest-mlogloss:0.86226\n",
      "[159]\ttrain-mlogloss:0.71948\ttest-mlogloss:0.86201\n",
      "[160]\ttrain-mlogloss:0.71868\ttest-mlogloss:0.86167\n",
      "[161]\ttrain-mlogloss:0.71793\ttest-mlogloss:0.86091\n",
      "[162]\ttrain-mlogloss:0.71724\ttest-mlogloss:0.86036\n",
      "[163]\ttrain-mlogloss:0.71645\ttest-mlogloss:0.85972\n",
      "[164]\ttrain-mlogloss:0.71571\ttest-mlogloss:0.85905\n",
      "[165]\ttrain-mlogloss:0.71499\ttest-mlogloss:0.85853\n",
      "[166]\ttrain-mlogloss:0.71427\ttest-mlogloss:0.85811\n",
      "[167]\ttrain-mlogloss:0.71358\ttest-mlogloss:0.85771\n",
      "[168]\ttrain-mlogloss:0.71282\ttest-mlogloss:0.85746\n",
      "[169]\ttrain-mlogloss:0.71205\ttest-mlogloss:0.85710\n",
      "[170]\ttrain-mlogloss:0.71135\ttest-mlogloss:0.85674\n",
      "[171]\ttrain-mlogloss:0.71070\ttest-mlogloss:0.85662\n",
      "[172]\ttrain-mlogloss:0.71006\ttest-mlogloss:0.85605\n",
      "[173]\ttrain-mlogloss:0.70943\ttest-mlogloss:0.85593\n",
      "[174]\ttrain-mlogloss:0.70869\ttest-mlogloss:0.85561\n",
      "[175]\ttrain-mlogloss:0.70804\ttest-mlogloss:0.85518\n",
      "[176]\ttrain-mlogloss:0.70725\ttest-mlogloss:0.85479\n",
      "[177]\ttrain-mlogloss:0.70654\ttest-mlogloss:0.85434\n",
      "[178]\ttrain-mlogloss:0.70584\ttest-mlogloss:0.85376\n",
      "[179]\ttrain-mlogloss:0.70510\ttest-mlogloss:0.85352\n",
      "[180]\ttrain-mlogloss:0.70439\ttest-mlogloss:0.85292\n",
      "[181]\ttrain-mlogloss:0.70364\ttest-mlogloss:0.85258\n",
      "[182]\ttrain-mlogloss:0.70293\ttest-mlogloss:0.85220\n",
      "[183]\ttrain-mlogloss:0.70221\ttest-mlogloss:0.85199\n",
      "[184]\ttrain-mlogloss:0.70142\ttest-mlogloss:0.85204\n",
      "[185]\ttrain-mlogloss:0.70078\ttest-mlogloss:0.85186\n",
      "[186]\ttrain-mlogloss:0.70015\ttest-mlogloss:0.85144\n",
      "[187]\ttrain-mlogloss:0.69942\ttest-mlogloss:0.85105\n",
      "[188]\ttrain-mlogloss:0.69876\ttest-mlogloss:0.85049\n",
      "[189]\ttrain-mlogloss:0.69800\ttest-mlogloss:0.85013\n",
      "[190]\ttrain-mlogloss:0.69733\ttest-mlogloss:0.84990\n",
      "[191]\ttrain-mlogloss:0.69662\ttest-mlogloss:0.84964\n",
      "[192]\ttrain-mlogloss:0.69595\ttest-mlogloss:0.84939\n",
      "[193]\ttrain-mlogloss:0.69510\ttest-mlogloss:0.84910\n",
      "[194]\ttrain-mlogloss:0.69444\ttest-mlogloss:0.84850\n",
      "[195]\ttrain-mlogloss:0.69379\ttest-mlogloss:0.84819\n",
      "[196]\ttrain-mlogloss:0.69315\ttest-mlogloss:0.84790\n",
      "[197]\ttrain-mlogloss:0.69259\ttest-mlogloss:0.84767\n",
      "[198]\ttrain-mlogloss:0.69206\ttest-mlogloss:0.84712\n",
      "[199]\ttrain-mlogloss:0.69140\ttest-mlogloss:0.84707\n",
      "[200]\ttrain-mlogloss:0.69076\ttest-mlogloss:0.84685\n",
      "[201]\ttrain-mlogloss:0.69009\ttest-mlogloss:0.84665\n",
      "[202]\ttrain-mlogloss:0.68934\ttest-mlogloss:0.84655\n",
      "[203]\ttrain-mlogloss:0.68872\ttest-mlogloss:0.84629\n",
      "[204]\ttrain-mlogloss:0.68803\ttest-mlogloss:0.84593\n",
      "[205]\ttrain-mlogloss:0.68743\ttest-mlogloss:0.84564\n",
      "[206]\ttrain-mlogloss:0.68681\ttest-mlogloss:0.84524\n",
      "[207]\ttrain-mlogloss:0.68624\ttest-mlogloss:0.84487\n",
      "[208]\ttrain-mlogloss:0.68554\ttest-mlogloss:0.84441\n",
      "[209]\ttrain-mlogloss:0.68492\ttest-mlogloss:0.84392\n",
      "[210]\ttrain-mlogloss:0.68421\ttest-mlogloss:0.84349\n",
      "[211]\ttrain-mlogloss:0.68356\ttest-mlogloss:0.84327\n",
      "[212]\ttrain-mlogloss:0.68283\ttest-mlogloss:0.84307\n",
      "[213]\ttrain-mlogloss:0.68227\ttest-mlogloss:0.84273\n",
      "[214]\ttrain-mlogloss:0.68165\ttest-mlogloss:0.84226\n",
      "[215]\ttrain-mlogloss:0.68105\ttest-mlogloss:0.84196\n",
      "[216]\ttrain-mlogloss:0.68040\ttest-mlogloss:0.84149\n",
      "[217]\ttrain-mlogloss:0.67973\ttest-mlogloss:0.84082\n",
      "[218]\ttrain-mlogloss:0.67898\ttest-mlogloss:0.84053\n",
      "[219]\ttrain-mlogloss:0.67841\ttest-mlogloss:0.84020\n",
      "[220]\ttrain-mlogloss:0.67788\ttest-mlogloss:0.83971\n",
      "[221]\ttrain-mlogloss:0.67718\ttest-mlogloss:0.83938\n",
      "[222]\ttrain-mlogloss:0.67661\ttest-mlogloss:0.83877\n",
      "[223]\ttrain-mlogloss:0.67607\ttest-mlogloss:0.83879\n",
      "[224]\ttrain-mlogloss:0.67548\ttest-mlogloss:0.83854\n",
      "[225]\ttrain-mlogloss:0.67490\ttest-mlogloss:0.83852\n",
      "[226]\ttrain-mlogloss:0.67429\ttest-mlogloss:0.83803\n",
      "[227]\ttrain-mlogloss:0.67372\ttest-mlogloss:0.83772\n",
      "[228]\ttrain-mlogloss:0.67319\ttest-mlogloss:0.83739\n",
      "[229]\ttrain-mlogloss:0.67265\ttest-mlogloss:0.83685\n",
      "[230]\ttrain-mlogloss:0.67193\ttest-mlogloss:0.83627\n",
      "[231]\ttrain-mlogloss:0.67135\ttest-mlogloss:0.83621\n",
      "[232]\ttrain-mlogloss:0.67085\ttest-mlogloss:0.83601\n",
      "[233]\ttrain-mlogloss:0.67029\ttest-mlogloss:0.83591\n",
      "[234]\ttrain-mlogloss:0.66970\ttest-mlogloss:0.83552\n",
      "[235]\ttrain-mlogloss:0.66920\ttest-mlogloss:0.83528\n",
      "[236]\ttrain-mlogloss:0.66858\ttest-mlogloss:0.83511\n",
      "[237]\ttrain-mlogloss:0.66807\ttest-mlogloss:0.83480\n",
      "[238]\ttrain-mlogloss:0.66753\ttest-mlogloss:0.83446\n",
      "[239]\ttrain-mlogloss:0.66705\ttest-mlogloss:0.83405\n",
      "[240]\ttrain-mlogloss:0.66644\ttest-mlogloss:0.83397\n",
      "[241]\ttrain-mlogloss:0.66595\ttest-mlogloss:0.83371\n",
      "[242]\ttrain-mlogloss:0.66539\ttest-mlogloss:0.83332\n",
      "[243]\ttrain-mlogloss:0.66486\ttest-mlogloss:0.83274\n",
      "[244]\ttrain-mlogloss:0.66425\ttest-mlogloss:0.83257\n",
      "[245]\ttrain-mlogloss:0.66357\ttest-mlogloss:0.83265\n",
      "[246]\ttrain-mlogloss:0.66306\ttest-mlogloss:0.83237\n",
      "[247]\ttrain-mlogloss:0.66252\ttest-mlogloss:0.83211\n",
      "[248]\ttrain-mlogloss:0.66193\ttest-mlogloss:0.83169\n",
      "[249]\ttrain-mlogloss:0.66147\ttest-mlogloss:0.83154\n",
      "[250]\ttrain-mlogloss:0.66095\ttest-mlogloss:0.83128\n",
      "[251]\ttrain-mlogloss:0.66043\ttest-mlogloss:0.83128\n",
      "[252]\ttrain-mlogloss:0.65994\ttest-mlogloss:0.83117\n",
      "[253]\ttrain-mlogloss:0.65947\ttest-mlogloss:0.83086\n",
      "[254]\ttrain-mlogloss:0.65883\ttest-mlogloss:0.83069\n",
      "[255]\ttrain-mlogloss:0.65836\ttest-mlogloss:0.83034\n",
      "[256]\ttrain-mlogloss:0.65788\ttest-mlogloss:0.82996\n",
      "[257]\ttrain-mlogloss:0.65728\ttest-mlogloss:0.82970\n",
      "[258]\ttrain-mlogloss:0.65681\ttest-mlogloss:0.82938\n",
      "[259]\ttrain-mlogloss:0.65631\ttest-mlogloss:0.82917\n",
      "[260]\ttrain-mlogloss:0.65570\ttest-mlogloss:0.82895\n",
      "[261]\ttrain-mlogloss:0.65517\ttest-mlogloss:0.82867\n",
      "[262]\ttrain-mlogloss:0.65468\ttest-mlogloss:0.82848\n",
      "[263]\ttrain-mlogloss:0.65423\ttest-mlogloss:0.82820\n",
      "[264]\ttrain-mlogloss:0.65377\ttest-mlogloss:0.82801\n",
      "[265]\ttrain-mlogloss:0.65326\ttest-mlogloss:0.82790\n",
      "[266]\ttrain-mlogloss:0.65274\ttest-mlogloss:0.82760\n",
      "[267]\ttrain-mlogloss:0.65229\ttest-mlogloss:0.82741\n",
      "[268]\ttrain-mlogloss:0.65182\ttest-mlogloss:0.82725\n",
      "[269]\ttrain-mlogloss:0.65136\ttest-mlogloss:0.82715\n",
      "[270]\ttrain-mlogloss:0.65089\ttest-mlogloss:0.82705\n",
      "[271]\ttrain-mlogloss:0.65048\ttest-mlogloss:0.82667\n",
      "[272]\ttrain-mlogloss:0.65003\ttest-mlogloss:0.82662\n",
      "[273]\ttrain-mlogloss:0.64951\ttest-mlogloss:0.82638\n",
      "[274]\ttrain-mlogloss:0.64900\ttest-mlogloss:0.82615\n",
      "[275]\ttrain-mlogloss:0.64845\ttest-mlogloss:0.82597\n",
      "[276]\ttrain-mlogloss:0.64797\ttest-mlogloss:0.82581\n",
      "[277]\ttrain-mlogloss:0.64749\ttest-mlogloss:0.82561\n",
      "[278]\ttrain-mlogloss:0.64704\ttest-mlogloss:0.82534\n",
      "[279]\ttrain-mlogloss:0.64659\ttest-mlogloss:0.82512\n",
      "[280]\ttrain-mlogloss:0.64612\ttest-mlogloss:0.82475\n",
      "[281]\ttrain-mlogloss:0.64572\ttest-mlogloss:0.82443\n",
      "[282]\ttrain-mlogloss:0.64526\ttest-mlogloss:0.82428\n",
      "[283]\ttrain-mlogloss:0.64487\ttest-mlogloss:0.82410\n",
      "[284]\ttrain-mlogloss:0.64429\ttest-mlogloss:0.82394\n",
      "[285]\ttrain-mlogloss:0.64383\ttest-mlogloss:0.82394\n",
      "[286]\ttrain-mlogloss:0.64340\ttest-mlogloss:0.82377\n",
      "[287]\ttrain-mlogloss:0.64290\ttest-mlogloss:0.82353\n",
      "[288]\ttrain-mlogloss:0.64243\ttest-mlogloss:0.82348\n",
      "[289]\ttrain-mlogloss:0.64197\ttest-mlogloss:0.82336\n",
      "[290]\ttrain-mlogloss:0.64150\ttest-mlogloss:0.82306\n",
      "[291]\ttrain-mlogloss:0.64104\ttest-mlogloss:0.82284\n",
      "[292]\ttrain-mlogloss:0.64061\ttest-mlogloss:0.82282\n",
      "[293]\ttrain-mlogloss:0.64013\ttest-mlogloss:0.82268\n",
      "[294]\ttrain-mlogloss:0.63964\ttest-mlogloss:0.82235\n",
      "[295]\ttrain-mlogloss:0.63917\ttest-mlogloss:0.82242\n",
      "[296]\ttrain-mlogloss:0.63865\ttest-mlogloss:0.82247\n",
      "[297]\ttrain-mlogloss:0.63805\ttest-mlogloss:0.82231\n",
      "[298]\ttrain-mlogloss:0.63750\ttest-mlogloss:0.82227\n",
      "[299]\ttrain-mlogloss:0.63703\ttest-mlogloss:0.82209\n",
      "[300]\ttrain-mlogloss:0.63653\ttest-mlogloss:0.82192\n",
      "[301]\ttrain-mlogloss:0.63602\ttest-mlogloss:0.82182\n",
      "[302]\ttrain-mlogloss:0.63556\ttest-mlogloss:0.82158\n",
      "[303]\ttrain-mlogloss:0.63516\ttest-mlogloss:0.82139\n",
      "[304]\ttrain-mlogloss:0.63471\ttest-mlogloss:0.82139\n",
      "[305]\ttrain-mlogloss:0.63423\ttest-mlogloss:0.82119\n",
      "[306]\ttrain-mlogloss:0.63376\ttest-mlogloss:0.82118\n",
      "[307]\ttrain-mlogloss:0.63338\ttest-mlogloss:0.82107\n",
      "[308]\ttrain-mlogloss:0.63299\ttest-mlogloss:0.82087\n",
      "[309]\ttrain-mlogloss:0.63254\ttest-mlogloss:0.82051\n",
      "[310]\ttrain-mlogloss:0.63209\ttest-mlogloss:0.82021\n",
      "[311]\ttrain-mlogloss:0.63166\ttest-mlogloss:0.82031\n",
      "[312]\ttrain-mlogloss:0.63130\ttest-mlogloss:0.82018\n",
      "[313]\ttrain-mlogloss:0.63085\ttest-mlogloss:0.81986\n",
      "[314]\ttrain-mlogloss:0.63044\ttest-mlogloss:0.81988\n",
      "[315]\ttrain-mlogloss:0.62996\ttest-mlogloss:0.81964\n",
      "[316]\ttrain-mlogloss:0.62954\ttest-mlogloss:0.81942\n"
     ]
    },
    {
     "name": "stdout",
     "output_type": "stream",
     "text": [
      "[317]\ttrain-mlogloss:0.62907\ttest-mlogloss:0.81930\n",
      "[318]\ttrain-mlogloss:0.62867\ttest-mlogloss:0.81906\n",
      "[319]\ttrain-mlogloss:0.62826\ttest-mlogloss:0.81873\n",
      "[320]\ttrain-mlogloss:0.62787\ttest-mlogloss:0.81851\n",
      "[321]\ttrain-mlogloss:0.62747\ttest-mlogloss:0.81840\n",
      "[322]\ttrain-mlogloss:0.62705\ttest-mlogloss:0.81811\n",
      "[323]\ttrain-mlogloss:0.62666\ttest-mlogloss:0.81806\n",
      "[324]\ttrain-mlogloss:0.62627\ttest-mlogloss:0.81797\n",
      "[325]\ttrain-mlogloss:0.62585\ttest-mlogloss:0.81798\n",
      "[326]\ttrain-mlogloss:0.62544\ttest-mlogloss:0.81786\n",
      "[327]\ttrain-mlogloss:0.62499\ttest-mlogloss:0.81765\n",
      "[328]\ttrain-mlogloss:0.62445\ttest-mlogloss:0.81766\n",
      "[329]\ttrain-mlogloss:0.62407\ttest-mlogloss:0.81745\n",
      "[330]\ttrain-mlogloss:0.62361\ttest-mlogloss:0.81722\n",
      "[331]\ttrain-mlogloss:0.62308\ttest-mlogloss:0.81707\n",
      "[332]\ttrain-mlogloss:0.62265\ttest-mlogloss:0.81678\n",
      "[333]\ttrain-mlogloss:0.62225\ttest-mlogloss:0.81644\n",
      "[334]\ttrain-mlogloss:0.62185\ttest-mlogloss:0.81652\n",
      "[335]\ttrain-mlogloss:0.62146\ttest-mlogloss:0.81631\n",
      "[336]\ttrain-mlogloss:0.62105\ttest-mlogloss:0.81621\n",
      "[337]\ttrain-mlogloss:0.62063\ttest-mlogloss:0.81602\n",
      "[338]\ttrain-mlogloss:0.62024\ttest-mlogloss:0.81573\n",
      "[339]\ttrain-mlogloss:0.61981\ttest-mlogloss:0.81549\n",
      "[340]\ttrain-mlogloss:0.61941\ttest-mlogloss:0.81559\n",
      "[341]\ttrain-mlogloss:0.61896\ttest-mlogloss:0.81533\n",
      "[342]\ttrain-mlogloss:0.61858\ttest-mlogloss:0.81509\n",
      "[343]\ttrain-mlogloss:0.61814\ttest-mlogloss:0.81484\n",
      "[344]\ttrain-mlogloss:0.61767\ttest-mlogloss:0.81455\n",
      "[345]\ttrain-mlogloss:0.61725\ttest-mlogloss:0.81445\n",
      "[346]\ttrain-mlogloss:0.61685\ttest-mlogloss:0.81421\n",
      "[347]\ttrain-mlogloss:0.61640\ttest-mlogloss:0.81404\n",
      "[348]\ttrain-mlogloss:0.61601\ttest-mlogloss:0.81392\n",
      "[349]\ttrain-mlogloss:0.61552\ttest-mlogloss:0.81377\n",
      "[350]\ttrain-mlogloss:0.61513\ttest-mlogloss:0.81366\n",
      "[351]\ttrain-mlogloss:0.61472\ttest-mlogloss:0.81357\n",
      "[352]\ttrain-mlogloss:0.61434\ttest-mlogloss:0.81322\n",
      "[353]\ttrain-mlogloss:0.61395\ttest-mlogloss:0.81325\n",
      "[354]\ttrain-mlogloss:0.61350\ttest-mlogloss:0.81307\n",
      "[355]\ttrain-mlogloss:0.61307\ttest-mlogloss:0.81296\n",
      "[356]\ttrain-mlogloss:0.61264\ttest-mlogloss:0.81275\n",
      "[357]\ttrain-mlogloss:0.61229\ttest-mlogloss:0.81267\n",
      "[358]\ttrain-mlogloss:0.61186\ttest-mlogloss:0.81249\n",
      "[359]\ttrain-mlogloss:0.61146\ttest-mlogloss:0.81246\n",
      "[360]\ttrain-mlogloss:0.61112\ttest-mlogloss:0.81235\n",
      "[361]\ttrain-mlogloss:0.61067\ttest-mlogloss:0.81235\n",
      "[362]\ttrain-mlogloss:0.61017\ttest-mlogloss:0.81196\n",
      "[363]\ttrain-mlogloss:0.60981\ttest-mlogloss:0.81197\n",
      "[364]\ttrain-mlogloss:0.60948\ttest-mlogloss:0.81181\n",
      "[365]\ttrain-mlogloss:0.60907\ttest-mlogloss:0.81178\n",
      "[366]\ttrain-mlogloss:0.60873\ttest-mlogloss:0.81140\n",
      "[367]\ttrain-mlogloss:0.60833\ttest-mlogloss:0.81110\n",
      "[368]\ttrain-mlogloss:0.60783\ttest-mlogloss:0.81095\n",
      "[369]\ttrain-mlogloss:0.60742\ttest-mlogloss:0.81079\n",
      "[370]\ttrain-mlogloss:0.60703\ttest-mlogloss:0.81068\n",
      "[371]\ttrain-mlogloss:0.60665\ttest-mlogloss:0.81033\n",
      "[372]\ttrain-mlogloss:0.60629\ttest-mlogloss:0.80997\n",
      "[373]\ttrain-mlogloss:0.60590\ttest-mlogloss:0.81005\n",
      "[374]\ttrain-mlogloss:0.60547\ttest-mlogloss:0.80988\n",
      "[375]\ttrain-mlogloss:0.60509\ttest-mlogloss:0.80944\n",
      "[376]\ttrain-mlogloss:0.60474\ttest-mlogloss:0.80956\n",
      "[377]\ttrain-mlogloss:0.60434\ttest-mlogloss:0.80965\n",
      "[378]\ttrain-mlogloss:0.60400\ttest-mlogloss:0.80951\n",
      "[379]\ttrain-mlogloss:0.60360\ttest-mlogloss:0.80921\n",
      "[380]\ttrain-mlogloss:0.60326\ttest-mlogloss:0.80910\n",
      "[381]\ttrain-mlogloss:0.60287\ttest-mlogloss:0.80903\n",
      "[382]\ttrain-mlogloss:0.60255\ttest-mlogloss:0.80890\n",
      "[383]\ttrain-mlogloss:0.60219\ttest-mlogloss:0.80855\n",
      "[384]\ttrain-mlogloss:0.60185\ttest-mlogloss:0.80859\n",
      "[385]\ttrain-mlogloss:0.60149\ttest-mlogloss:0.80821\n",
      "[386]\ttrain-mlogloss:0.60110\ttest-mlogloss:0.80810\n",
      "[387]\ttrain-mlogloss:0.60076\ttest-mlogloss:0.80796\n",
      "[388]\ttrain-mlogloss:0.60041\ttest-mlogloss:0.80786\n",
      "[389]\ttrain-mlogloss:0.60006\ttest-mlogloss:0.80773\n",
      "[390]\ttrain-mlogloss:0.59974\ttest-mlogloss:0.80765\n",
      "[391]\ttrain-mlogloss:0.59937\ttest-mlogloss:0.80746\n",
      "[392]\ttrain-mlogloss:0.59898\ttest-mlogloss:0.80728\n",
      "[393]\ttrain-mlogloss:0.59858\ttest-mlogloss:0.80726\n",
      "[394]\ttrain-mlogloss:0.59817\ttest-mlogloss:0.80711\n",
      "[395]\ttrain-mlogloss:0.59781\ttest-mlogloss:0.80702\n",
      "[396]\ttrain-mlogloss:0.59753\ttest-mlogloss:0.80683\n",
      "[397]\ttrain-mlogloss:0.59716\ttest-mlogloss:0.80682\n",
      "[398]\ttrain-mlogloss:0.59663\ttest-mlogloss:0.80669\n",
      "[399]\ttrain-mlogloss:0.59633\ttest-mlogloss:0.80648\n",
      "[400]\ttrain-mlogloss:0.59598\ttest-mlogloss:0.80640\n",
      "[401]\ttrain-mlogloss:0.59567\ttest-mlogloss:0.80627\n",
      "[402]\ttrain-mlogloss:0.59531\ttest-mlogloss:0.80611\n",
      "[403]\ttrain-mlogloss:0.59497\ttest-mlogloss:0.80606\n",
      "[404]\ttrain-mlogloss:0.59461\ttest-mlogloss:0.80605\n",
      "[405]\ttrain-mlogloss:0.59421\ttest-mlogloss:0.80595\n",
      "[406]\ttrain-mlogloss:0.59389\ttest-mlogloss:0.80572\n",
      "[407]\ttrain-mlogloss:0.59351\ttest-mlogloss:0.80568\n",
      "[408]\ttrain-mlogloss:0.59318\ttest-mlogloss:0.80546\n",
      "[409]\ttrain-mlogloss:0.59284\ttest-mlogloss:0.80545\n",
      "[410]\ttrain-mlogloss:0.59251\ttest-mlogloss:0.80532\n",
      "[411]\ttrain-mlogloss:0.59215\ttest-mlogloss:0.80499\n",
      "[412]\ttrain-mlogloss:0.59178\ttest-mlogloss:0.80487\n",
      "[413]\ttrain-mlogloss:0.59139\ttest-mlogloss:0.80456\n",
      "[414]\ttrain-mlogloss:0.59101\ttest-mlogloss:0.80429\n",
      "[415]\ttrain-mlogloss:0.59069\ttest-mlogloss:0.80419\n",
      "[416]\ttrain-mlogloss:0.59030\ttest-mlogloss:0.80411\n",
      "[417]\ttrain-mlogloss:0.59002\ttest-mlogloss:0.80388\n",
      "[418]\ttrain-mlogloss:0.58970\ttest-mlogloss:0.80388\n",
      "[419]\ttrain-mlogloss:0.58929\ttest-mlogloss:0.80383\n",
      "[420]\ttrain-mlogloss:0.58898\ttest-mlogloss:0.80366\n",
      "[421]\ttrain-mlogloss:0.58863\ttest-mlogloss:0.80355\n",
      "[422]\ttrain-mlogloss:0.58829\ttest-mlogloss:0.80341\n",
      "[423]\ttrain-mlogloss:0.58796\ttest-mlogloss:0.80304\n",
      "[424]\ttrain-mlogloss:0.58764\ttest-mlogloss:0.80286\n",
      "[425]\ttrain-mlogloss:0.58725\ttest-mlogloss:0.80279\n",
      "[426]\ttrain-mlogloss:0.58692\ttest-mlogloss:0.80265\n",
      "[427]\ttrain-mlogloss:0.58657\ttest-mlogloss:0.80249\n",
      "[428]\ttrain-mlogloss:0.58626\ttest-mlogloss:0.80230\n",
      "[429]\ttrain-mlogloss:0.58590\ttest-mlogloss:0.80216\n",
      "[430]\ttrain-mlogloss:0.58553\ttest-mlogloss:0.80189\n",
      "[431]\ttrain-mlogloss:0.58520\ttest-mlogloss:0.80173\n",
      "[432]\ttrain-mlogloss:0.58487\ttest-mlogloss:0.80172\n",
      "[433]\ttrain-mlogloss:0.58459\ttest-mlogloss:0.80156\n",
      "[434]\ttrain-mlogloss:0.58429\ttest-mlogloss:0.80144\n",
      "[435]\ttrain-mlogloss:0.58400\ttest-mlogloss:0.80111\n",
      "[436]\ttrain-mlogloss:0.58369\ttest-mlogloss:0.80121\n",
      "[437]\ttrain-mlogloss:0.58338\ttest-mlogloss:0.80096\n",
      "[438]\ttrain-mlogloss:0.58303\ttest-mlogloss:0.80093\n",
      "[439]\ttrain-mlogloss:0.58268\ttest-mlogloss:0.80069\n",
      "[440]\ttrain-mlogloss:0.58236\ttest-mlogloss:0.80054\n",
      "[441]\ttrain-mlogloss:0.58201\ttest-mlogloss:0.80047\n",
      "[442]\ttrain-mlogloss:0.58169\ttest-mlogloss:0.80032\n",
      "[443]\ttrain-mlogloss:0.58133\ttest-mlogloss:0.80018\n",
      "[444]\ttrain-mlogloss:0.58099\ttest-mlogloss:0.80008\n",
      "[445]\ttrain-mlogloss:0.58058\ttest-mlogloss:0.79999\n",
      "[446]\ttrain-mlogloss:0.58028\ttest-mlogloss:0.79993\n",
      "[447]\ttrain-mlogloss:0.57998\ttest-mlogloss:0.79975\n",
      "[448]\ttrain-mlogloss:0.57968\ttest-mlogloss:0.79949\n",
      "[449]\ttrain-mlogloss:0.57931\ttest-mlogloss:0.79948\n",
      "[450]\ttrain-mlogloss:0.57894\ttest-mlogloss:0.79916\n",
      "[451]\ttrain-mlogloss:0.57865\ttest-mlogloss:0.79892\n",
      "[452]\ttrain-mlogloss:0.57839\ttest-mlogloss:0.79877\n",
      "[453]\ttrain-mlogloss:0.57812\ttest-mlogloss:0.79882\n",
      "[454]\ttrain-mlogloss:0.57780\ttest-mlogloss:0.79871\n",
      "[455]\ttrain-mlogloss:0.57748\ttest-mlogloss:0.79852\n",
      "[456]\ttrain-mlogloss:0.57713\ttest-mlogloss:0.79832\n",
      "[457]\ttrain-mlogloss:0.57679\ttest-mlogloss:0.79823\n",
      "[458]\ttrain-mlogloss:0.57650\ttest-mlogloss:0.79817\n",
      "[459]\ttrain-mlogloss:0.57618\ttest-mlogloss:0.79794\n",
      "[460]\ttrain-mlogloss:0.57586\ttest-mlogloss:0.79776\n",
      "[461]\ttrain-mlogloss:0.57562\ttest-mlogloss:0.79780\n",
      "[462]\ttrain-mlogloss:0.57528\ttest-mlogloss:0.79761\n",
      "[463]\ttrain-mlogloss:0.57493\ttest-mlogloss:0.79756\n",
      "[464]\ttrain-mlogloss:0.57465\ttest-mlogloss:0.79728\n",
      "[465]\ttrain-mlogloss:0.57437\ttest-mlogloss:0.79703\n",
      "[466]\ttrain-mlogloss:0.57407\ttest-mlogloss:0.79685\n",
      "[467]\ttrain-mlogloss:0.57380\ttest-mlogloss:0.79670\n",
      "[468]\ttrain-mlogloss:0.57349\ttest-mlogloss:0.79658\n",
      "[469]\ttrain-mlogloss:0.57314\ttest-mlogloss:0.79634\n",
      "[470]\ttrain-mlogloss:0.57280\ttest-mlogloss:0.79608\n",
      "[471]\ttrain-mlogloss:0.57247\ttest-mlogloss:0.79587\n",
      "[472]\ttrain-mlogloss:0.57212\ttest-mlogloss:0.79564\n",
      "[473]\ttrain-mlogloss:0.57179\ttest-mlogloss:0.79545\n",
      "[474]\ttrain-mlogloss:0.57150\ttest-mlogloss:0.79541\n",
      "[475]\ttrain-mlogloss:0.57120\ttest-mlogloss:0.79525\n",
      "[476]\ttrain-mlogloss:0.57083\ttest-mlogloss:0.79505\n",
      "[477]\ttrain-mlogloss:0.57054\ttest-mlogloss:0.79490\n"
     ]
    },
    {
     "name": "stdout",
     "output_type": "stream",
     "text": [
      "[478]\ttrain-mlogloss:0.57026\ttest-mlogloss:0.79472\n",
      "[479]\ttrain-mlogloss:0.56993\ttest-mlogloss:0.79459\n",
      "[480]\ttrain-mlogloss:0.56968\ttest-mlogloss:0.79460\n",
      "[481]\ttrain-mlogloss:0.56940\ttest-mlogloss:0.79460\n",
      "[482]\ttrain-mlogloss:0.56908\ttest-mlogloss:0.79455\n",
      "[483]\ttrain-mlogloss:0.56872\ttest-mlogloss:0.79429\n",
      "[484]\ttrain-mlogloss:0.56845\ttest-mlogloss:0.79394\n",
      "[485]\ttrain-mlogloss:0.56817\ttest-mlogloss:0.79377\n",
      "[486]\ttrain-mlogloss:0.56779\ttest-mlogloss:0.79359\n",
      "[487]\ttrain-mlogloss:0.56741\ttest-mlogloss:0.79345\n",
      "[488]\ttrain-mlogloss:0.56713\ttest-mlogloss:0.79329\n",
      "[489]\ttrain-mlogloss:0.56684\ttest-mlogloss:0.79321\n",
      "[490]\ttrain-mlogloss:0.56656\ttest-mlogloss:0.79327\n",
      "[491]\ttrain-mlogloss:0.56628\ttest-mlogloss:0.79312\n",
      "[492]\ttrain-mlogloss:0.56598\ttest-mlogloss:0.79291\n",
      "[493]\ttrain-mlogloss:0.56569\ttest-mlogloss:0.79289\n",
      "[494]\ttrain-mlogloss:0.56540\ttest-mlogloss:0.79289\n",
      "[495]\ttrain-mlogloss:0.56506\ttest-mlogloss:0.79280\n",
      "[496]\ttrain-mlogloss:0.56464\ttest-mlogloss:0.79280\n",
      "[497]\ttrain-mlogloss:0.56427\ttest-mlogloss:0.79270\n",
      "[498]\ttrain-mlogloss:0.56400\ttest-mlogloss:0.79263\n",
      "[499]\ttrain-mlogloss:0.56371\ttest-mlogloss:0.79253\n"
     ]
    }
   ],
   "source": [
    "model_xgb = run_xgb(train_transform, y_train, val_transform, y_val)\n",
    "n_rounds = model_xgb.best_ntree_limit"
   ]
  },
  {
   "cell_type": "code",
   "execution_count": 187,
   "metadata": {
    "ExecuteTime": {
     "end_time": "2021-03-25T15:30:25.900724Z",
     "start_time": "2021-03-25T15:30:25.888757Z"
    }
   },
   "outputs": [],
   "source": [
    "target_num_map = {\"negative\":0,\n",
    "                 \"neutral\":1,\n",
    "                 \"positive\":2}"
   ]
  },
  {
   "cell_type": "code",
   "execution_count": 188,
   "metadata": {
    "ExecuteTime": {
     "end_time": "2021-03-25T15:30:26.844714Z",
     "start_time": "2021-03-25T15:30:25.901722Z"
    }
   },
   "outputs": [],
   "source": [
    "###############################################################################################################\n",
    "# Prediction on Validation set to check the threshold:\n",
    "###############################################################################################################\n",
    "prob_validation = model_xgb.predict(xgb.DMatrix(test_transform), ntree_limit = n_rounds)\n",
    "prob_validation = pd.DataFrame(prob_validation, columns = list(target_num_map.keys()))\n",
    "\n",
    "val_pred = prob_validation.idxmax(axis=1)\n",
    "val_pred = np.array(val_pred.apply(lambda x: target_num_map[x]))"
   ]
  },
  {
   "cell_type": "code",
   "execution_count": 189,
   "metadata": {
    "ExecuteTime": {
     "end_time": "2021-03-25T15:30:26.892008Z",
     "start_time": "2021-03-25T15:30:26.845711Z"
    }
   },
   "outputs": [
    {
     "name": "stdout",
     "output_type": "stream",
     "text": [
      "              precision    recall  f1-score   support\n",
      "\n",
      "           0       0.37      0.82      0.51      3972\n",
      "           1       0.60      0.24      0.34      5937\n",
      "           2       0.65      0.29      0.40      2375\n",
      "\n",
      "    accuracy                           0.44     12284\n",
      "   macro avg       0.54      0.45      0.42     12284\n",
      "weighted avg       0.54      0.44      0.41     12284\n",
      "\n"
     ]
    }
   ],
   "source": [
    "# precision    recall  f1-score   support\n",
    "\n",
    "#            0       0.78      0.22      0.35      3972\n",
    "#            1       0.56      0.86      0.68      5937\n",
    "#            2       0.56      0.47      0.51      2375\n",
    "\n",
    "#     accuracy                           0.58     12284\n",
    "#    macro avg       0.63      0.52      0.51     12284\n",
    "# weighted avg       0.63      0.58      0.54     12284\n",
    "\n",
    "######## remove 3 rule ############\n",
    "#               precision    recall  f1-score   support\n",
    "\n",
    "#            0       0.76      0.23      0.35      3972\n",
    "#            1       0.56      0.86      0.68      5937\n",
    "#            2       0.59      0.49      0.54      2375\n",
    "\n",
    "#     accuracy                           0.59     12284\n",
    "#    macro avg       0.64      0.53      0.52     12284\n",
    "# weighted avg       0.63      0.59      0.55     12284\n",
    "\n",
    "print(classification_report([int(i) for i in np.array(y_test)], val_pred))"
   ]
  },
  {
   "cell_type": "code",
   "execution_count": 190,
   "metadata": {
    "ExecuteTime": {
     "end_time": "2021-03-25T15:31:29.273069Z",
     "start_time": "2021-03-25T15:31:29.042787Z"
    }
   },
   "outputs": [],
   "source": [
    "pickle.dump(model_xgb, open(\"twitter_sentiment_xgb_model.pkl\", \"wb\"))"
   ]
  },
  {
   "cell_type": "code",
   "execution_count": 191,
   "metadata": {
    "ExecuteTime": {
     "end_time": "2021-03-25T15:31:30.252481Z",
     "start_time": "2021-03-25T15:31:29.706507Z"
    }
   },
   "outputs": [],
   "source": [
    "## Load TF-IDF Model:\n",
    "tfidf_model = pickle.load(open(\"twitter_sentiment_tfidf.pkl\", 'rb'))\n",
    "## Load XGBoost Model:\n",
    "xgboost_model = pickle.load(open(\"twitter_sentiment_xgb_model.pkl\", 'rb'))"
   ]
  },
  {
   "cell_type": "code",
   "execution_count": 212,
   "metadata": {
    "ExecuteTime": {
     "end_time": "2021-03-25T15:42:56.954586Z",
     "start_time": "2021-03-25T15:42:56.934611Z"
    }
   },
   "outputs": [],
   "source": [
    "input_object = [\n",
    "              {\n",
    "                \"id\" : \"1\",\n",
    "                \"full_text\" : \"We are pleased to work with this @TCS client building #Cleantech in 🇨🇦. Congratulations to @QDSolar on your recent funding! 🥳 https://t.co/oghGwcQstZ\"\n",
    "              },\n",
    "              {\n",
    "                \"id\" : \"2\",\n",
    "                \"full_text\" : \"I got a call from manager and he told me it is compulsory to dispatch the product even @ekartlogistics are not going to deliver. I am not expecting such type of service by @Flipkart .\"\n",
    "              },\n",
    "              {\n",
    "                \"id\" : \"3\",\n",
    "                \"full_text\" : \"I have fantastic experience with @delhivery for large/Heavy Items, that's 5* but for others its just shame.. By the way @Flipkart @ekartlogistics (Del exec Mr Manoranjan Sahoo , Ref Id FMPN0001555570 , who has been consistently serving 5* , a big shutout to his service).\"\n",
    "              }\n",
    "            ]"
   ]
  },
  {
   "cell_type": "code",
   "execution_count": 213,
   "metadata": {
    "ExecuteTime": {
     "end_time": "2021-03-25T15:42:57.232210Z",
     "start_time": "2021-03-25T15:42:57.222250Z"
    }
   },
   "outputs": [],
   "source": [
    "LABELS = ['negative', 'neutral', 'positive']"
   ]
  },
  {
   "cell_type": "code",
   "execution_count": 214,
   "metadata": {
    "ExecuteTime": {
     "end_time": "2021-03-25T15:42:57.594753Z",
     "start_time": "2021-03-25T15:42:57.476072Z"
    }
   },
   "outputs": [],
   "source": [
    "output_object = []\n",
    "## Iterate through each input object\n",
    "for item in input_object:\n",
    "    text = item[\"full_text\"]\n",
    "    text = text_preprocessing(text)\n",
    "    text_transform = tfidf_model.transform([text])\n",
    "    scores = xgboost_model.predict(xgb.DMatrix(text_transform), ntree_limit = xgboost_model.best_ntree_limit)[0]\n",
    "    out_dict = {}\n",
    "    ranking = np.argsort(scores)\n",
    "    ranking = ranking[::-1]\n",
    "    for i in range(scores.shape[0]):\n",
    "        l = LABELS[ranking[i]]\n",
    "        s = scores[ranking[i]]\n",
    "        out_dict[l] = s  \n",
    "#     item[\"sentiment\"] = max(out_dict, key=out_dict.get) \n",
    "#     item[\"sentiment_score\"] =  np.round(out_dict[item[\"sentiment\"]]*100,2)\n",
    "    del item[\"full_text\"]\n",
    "#     output_object.append(item)\n",
    "    output_object.append(out_dict)"
   ]
  },
  {
   "cell_type": "code",
   "execution_count": 215,
   "metadata": {
    "ExecuteTime": {
     "end_time": "2021-03-25T15:42:57.969954Z",
     "start_time": "2021-03-25T15:42:57.951006Z"
    }
   },
   "outputs": [
    {
     "data": {
      "text/plain": [
       "[{'positive': 0.56263685, 'negative': 0.2664164, 'neutral': 0.17094672},\n",
       " {'negative': 0.81238824, 'neutral': 0.13774158, 'positive': 0.049870174},\n",
       " {'positive': 0.4366645, 'negative': 0.36912733, 'neutral': 0.19420813}]"
      ]
     },
     "execution_count": 215,
     "metadata": {},
     "output_type": "execute_result"
    }
   ],
   "source": [
    "output_object"
   ]
  },
  {
   "cell_type": "code",
   "execution_count": null,
   "metadata": {},
   "outputs": [],
   "source": []
  },
  {
   "cell_type": "code",
   "execution_count": null,
   "metadata": {},
   "outputs": [],
   "source": []
  },
  {
   "cell_type": "code",
   "execution_count": null,
   "metadata": {},
   "outputs": [],
   "source": []
  },
  {
   "cell_type": "code",
   "execution_count": null,
   "metadata": {},
   "outputs": [],
   "source": []
  },
  {
   "cell_type": "code",
   "execution_count": null,
   "metadata": {},
   "outputs": [],
   "source": []
  },
  {
   "cell_type": "code",
   "execution_count": null,
   "metadata": {},
   "outputs": [],
   "source": []
  },
  {
   "cell_type": "code",
   "execution_count": null,
   "metadata": {},
   "outputs": [],
   "source": []
  },
  {
   "cell_type": "code",
   "execution_count": null,
   "metadata": {},
   "outputs": [],
   "source": []
  },
  {
   "cell_type": "code",
   "execution_count": null,
   "metadata": {},
   "outputs": [],
   "source": []
  }
 ],
 "metadata": {
  "kernelspec": {
   "display_name": "Python 3",
   "language": "python",
   "name": "python3"
  },
  "language_info": {
   "codemirror_mode": {
    "name": "ipython",
    "version": 3
   },
   "file_extension": ".py",
   "mimetype": "text/x-python",
   "name": "python",
   "nbconvert_exporter": "python",
   "pygments_lexer": "ipython3",
   "version": "3.6.5"
  },
  "toc": {
   "base_numbering": 1,
   "nav_menu": {},
   "number_sections": true,
   "sideBar": true,
   "skip_h1_title": false,
   "title_cell": "Table of Contents",
   "title_sidebar": "Contents",
   "toc_cell": false,
   "toc_position": {},
   "toc_section_display": true,
   "toc_window_display": true
  }
 },
 "nbformat": 4,
 "nbformat_minor": 2
}
